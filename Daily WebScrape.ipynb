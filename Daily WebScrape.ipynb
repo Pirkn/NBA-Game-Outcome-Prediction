{
 "cells": [
  {
   "cell_type": "markdown",
   "id": "5a69e640-5a33-45ec-adb3-f006190d17ff",
   "metadata": {},
   "source": [
    "# Daily Webscraping\n",
    "This notebook is dedicated to scraping daily game data for a specific day of the year."
   ]
  },
  {
   "cell_type": "code",
   "execution_count": 1,
   "id": "4c5fc74a-2f21-4e72-a323-2d4aee1b4815",
   "metadata": {},
   "outputs": [],
   "source": [
    "import selenium.common.exceptions\n",
    "from selenium import webdriver\n",
    "from selenium.webdriver.common.by import By\n",
    "from datetime import date\n",
    "from io import StringIO\n",
    "from datetime import datetime\n",
    "import time\n",
    "import pandas as pd"
   ]
  },
  {
   "cell_type": "code",
   "execution_count": 2,
   "id": "5bb618bb-4654-4e2a-bd0e-4780888b56dd",
   "metadata": {},
   "outputs": [
    {
     "name": "stdin",
     "output_type": "stream",
     "text": [
      "Input mm-dd-yyyy to scrape:  5-19-2024\n"
     ]
    }
   ],
   "source": [
    "date_to_scrape = datetime.strptime(input('Input mm-dd-yyyy to scrape: '), '%m-%d-%Y').date()\n",
    "day = date_to_scrape.day\n",
    "month = date_to_scrape.month\n",
    "year = date_to_scrape.year"
   ]
  },
  {
   "cell_type": "code",
   "execution_count": 3,
   "id": "f39e79ce-a59b-4e56-a619-dfeaa53e4f40",
   "metadata": {},
   "outputs": [],
   "source": [
    "basketball_reference = f'https://www.basketball-reference.com/boxscores/index.fcgi?month={month}&day={day}&year={year}'"
   ]
  },
  {
   "cell_type": "code",
   "execution_count": 4,
   "id": "155c4da2-4cf9-4105-8b12-24f86f639366",
   "metadata": {},
   "outputs": [],
   "source": [
    "chrome_options = webdriver.ChromeOptions()\n",
    "chrome_options.add_experimental_option('detach', True)\n",
    "\n",
    "driver = webdriver.Chrome(options=chrome_options)"
   ]
  },
  {
   "cell_type": "code",
   "execution_count": 5,
   "id": "9d9a5ae6-a79c-422e-a1bb-3153033113dd",
   "metadata": {},
   "outputs": [],
   "source": [
    "def get_boxscores():\n",
    "    box_scores = []\n",
    "    \n",
    "    driver.get(basketball_reference)\n",
    "    elements = driver.find_elements(By.CSS_SELECTOR, '.links > a')\n",
    "    \n",
    "    for element in elements[::3]:\n",
    "        link = element.get_attribute('href')\n",
    "        box_scores.append(link)\n",
    "\n",
    "    return box_scores\n",
    "box_scores = get_boxscores()"
   ]
  },
  {
   "cell_type": "code",
   "execution_count": 6,
   "id": "48e6fd65-8dbb-4d96-9b9d-ece23ea81978",
   "metadata": {},
   "outputs": [],
   "source": [
    "def get_stats():\n",
    "    games = []\n",
    "    base_cols = None\n",
    "    for box_score in box_scores:\n",
    "        # Max 20 request per minute\n",
    "        time.sleep(5)\n",
    "\n",
    "        # basic & advanced team stats for specific game\n",
    "        stats = []\n",
    "\n",
    "        # Go to game box score link\n",
    "        driver.get(box_score)\n",
    "\n",
    "        # Get Game Date\n",
    "        try: \n",
    "            header = driver.find_element(By.CSS_SELECTOR, 'H1').text\n",
    "            game_day = day\n",
    "            game_month = month\n",
    "            game_year = year\n",
    "            game_season = 2024\n",
    "        except IndexError:\n",
    "            # Handle host downtime with saving the progress to csv and try to continue after user approves\n",
    "            input('There was an index error press enter to move on!')\n",
    "\n",
    "            driver.get(box_score)\n",
    "\n",
    "            time.sleep(3)\n",
    "            header = driver.find_element(By.CSS_SELECTOR, 'H1').text\n",
    "            game_day = day\n",
    "            game_month = month\n",
    "            game_year = year\n",
    "            game_season = 2024\n",
    "            \n",
    "\n",
    "        # ===== GET LINE SCORES =====\n",
    "        line_score_table = driver.find_element(By.ID, 'div_line_score').get_attribute('innerHTML')\n",
    "        line_score_df = pd.read_html(StringIO(line_score_table))[0]\n",
    "\n",
    "        # Adjust Dataframe\n",
    "        line_score_df.columns = line_score_df.columns.droplevel()\n",
    "        line_score_df = line_score_df.rename(columns={'Unnamed: 0_level_1': 'team', 'T': 'total'})\n",
    "        line_score_df = line_score_df[['team', 'total']]\n",
    "\n",
    "        # ===== GET BASIC & ADVANCED STATS =====\n",
    "        teams = list(line_score_df['team'])\n",
    "        #print(f'Gathering {teams[0]} vs {teams[1]} Data')\n",
    "        for team in teams:\n",
    "            advanced_id = f'div_box-{team}-game-advanced'\n",
    "            basic_id = f'div_box-{team}-game-basic'\n",
    "            \n",
    "            # Find advanced stats table\n",
    "            advanced_stats_table = driver.find_element(By.ID, advanced_id).get_attribute('innerHTML')\n",
    "            advanced_stats_df = pd.read_html(StringIO(advanced_stats_table), index_col=0)[0]\n",
    "            advanced_stats_df = advanced_stats_df.apply(pd.to_numeric, errors='coerce')\n",
    "            advanced_stats_df.columns = advanced_stats_df.columns.droplevel()\n",
    "\n",
    "            # Find basic stats table\n",
    "            basic_stats_table = driver.find_element(By.ID, basic_id).get_attribute('innerHTML')\n",
    "            basic_stats_df = pd.read_html(StringIO(basic_stats_table), index_col=0)[0]\n",
    "            basic_stats_df = basic_stats_df.apply(pd.to_numeric, errors='coerce')\n",
    "            basic_stats_df.columns = basic_stats_df.columns.droplevel()\n",
    "\n",
    "            # Get total team stats for basic and advanced stats and concat.\n",
    "            totals_df = pd.concat([basic_stats_df.iloc[-1, :], advanced_stats_df.iloc[-1, :]])\n",
    "            totals_df.index = totals_df.index.str.lower()\n",
    "\n",
    "            # Get Max scores for each stat & for each team (individual player)\n",
    "            maxes_df = pd.concat([basic_stats_df.iloc[:-1, :].max(), advanced_stats_df.iloc[:-1, :].max()])\n",
    "            maxes_df.index = maxes_df.index.str.lower() + '_max'\n",
    "\n",
    "            stat = pd.concat([totals_df, maxes_df])\n",
    "\n",
    "            if base_cols is None:\n",
    "                base_cols = list(stat.index.drop_duplicates(keep='first'))\n",
    "                base_cols = [b for b in base_cols if \"bpm\" not in b]\n",
    "\n",
    "            stat = stat[base_cols]\n",
    "            stats.append(stat)\n",
    "\n",
    "        # Concat both stats\n",
    "        stat_df = pd.concat(stats, axis=1).T\n",
    "\n",
    "        # Create game df\n",
    "        game = pd.concat([stat_df, line_score_df], axis=1)\n",
    "        game['home'] = [0, 1]\n",
    "        \n",
    "        # Create Opponent columns\n",
    "        game_opp = game.iloc[::-1].reset_index()\n",
    "        game_opp.columns += '_opp'\n",
    "\n",
    "        # Merge home + opponent columns\n",
    "        full_game = pd.concat([game, game_opp], axis=1)\n",
    "\n",
    "        full_game['season'] = game_season\n",
    "\n",
    "        full_game['date'] = f'{game_year}-{game_month}-{game_day}'\n",
    "        full_game['date'] = pd.to_datetime(full_game['date'])\n",
    "\n",
    "        full_game['won'] = full_game['total'] > full_game['total_opp']\n",
    "\n",
    "        # for every full game data we have 2 rows, from opponent teams perspective & from home teams perspective\n",
    "        games.append(full_game)\n",
    "\n",
    "    return games"
   ]
  },
  {
   "cell_type": "code",
   "execution_count": 7,
   "id": "a6ecbb29-a9a2-42c3-b06e-6be70a9f30b9",
   "metadata": {},
   "outputs": [],
   "source": [
    "games = get_stats()\n",
    "full_df = pd.concat(games, axis=0)\n",
    "full_df = full_df.reset_index()\n",
    "full_df = full_df.drop('index', axis=1)\n",
    "full_df.to_csv(f'Daily Game Data/{date_to_scrape}_nba_games.csv', index = False)\n",
    "\n",
    "driver.quit()"
   ]
  }
 ],
 "metadata": {
  "kernelspec": {
   "display_name": "Python 3 (ipykernel)",
   "language": "python",
   "name": "python3"
  },
  "language_info": {
   "codemirror_mode": {
    "name": "ipython",
    "version": 3
   },
   "file_extension": ".py",
   "mimetype": "text/x-python",
   "name": "python",
   "nbconvert_exporter": "python",
   "pygments_lexer": "ipython3",
   "version": "3.12.3"
  }
 },
 "nbformat": 4,
 "nbformat_minor": 5
}
