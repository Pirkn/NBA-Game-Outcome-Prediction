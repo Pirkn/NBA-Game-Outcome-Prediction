{
 "cells": [
  {
   "cell_type": "markdown",
   "id": "445d7428-8c49-4c55-ab81-38b1b1e1363d",
   "metadata": {},
   "source": [
    "# Concat DataFrames\n",
    "This notebook is dedicated to concatenating the historical dataset with the daily dataset to produce more reliable data."
   ]
  },
  {
   "cell_type": "code",
   "execution_count": 1,
   "id": "de8f47ef-00e7-4423-aa62-70bbd52d0fa8",
   "metadata": {},
   "outputs": [],
   "source": [
    "import pandas as pd\n",
    "import datetime\n",
    "from datetime import date"
   ]
  },
  {
   "cell_type": "code",
   "execution_count": null,
   "id": "f15532f4-e52d-4725-8ae4-6a2a26f3d843",
   "metadata": {},
   "outputs": [],
   "source": [
    "main_dataframe_path = 'Historical Data/'  # Path to the csv containing historical game data or already concatanated data.\n",
    "secondary_dataframe_path = 'Daily Game Data/'  # Path to the csv containing daily scraped game data to concat it with main dataframe."
   ]
  },
  {
   "cell_type": "code",
   "execution_count": 8,
   "id": "f00e9e10-8b2a-4055-a42e-a03f34d6a27f",
   "metadata": {},
   "outputs": [
    {
     "data": {
      "text/plain": [
       "(22814, 150)"
      ]
     },
     "execution_count": 8,
     "metadata": {},
     "output_type": "execute_result"
    }
   ],
   "source": [
    "main_df = pd.read_csv(main_dataframe_path)\n",
    "main_df.shape"
   ]
  },
  {
   "cell_type": "code",
   "execution_count": 9,
   "id": "d2afb8d8-76c3-481c-bcf6-ce37f9e7c565",
   "metadata": {},
   "outputs": [
    {
     "data": {
      "text/plain": [
       "(30, 150)"
      ]
     },
     "execution_count": 9,
     "metadata": {},
     "output_type": "execute_result"
    }
   ],
   "source": [
    "secondary_df = pd.read_csv(secondary_dataframe_path)\n",
    "daily_df.shape"
   ]
  },
  {
   "cell_type": "code",
   "execution_count": 10,
   "id": "8da5c02a-357a-4094-83fd-56ba96333b0e",
   "metadata": {},
   "outputs": [],
   "source": [
    "daily_df = daily_df.fillna(0)"
   ]
  },
  {
   "cell_type": "code",
   "execution_count": null,
   "id": "6c2a44ef-29e9-44e7-8481-567467168d6a",
   "metadata": {},
   "outputs": [],
   "source": [
    "new_df_name = secondary_dataframe_path.split('/')[1]"
   ]
  },
  {
   "cell_type": "code",
   "execution_count": 11,
   "id": "ea007272-581d-44fd-a6d1-6f144bc55d45",
   "metadata": {},
   "outputs": [],
   "source": [
    "new_df = pd.concat([main_df, secondary_df], axis=0)\n",
    "new_df = new_df.reset_index(drop=True)\n",
    "new_df.to_csv(f'Historical Data/games_until_{new_df_name}', index=False)"
   ]
  },
  {
   "cell_type": "code",
   "execution_count": 12,
   "id": "21d22004-33f2-460d-be06-869fd3825b05",
   "metadata": {},
   "outputs": [
    {
     "data": {
      "text/plain": [
       "(22844, 150)"
      ]
     },
     "execution_count": 12,
     "metadata": {},
     "output_type": "execute_result"
    }
   ],
   "source": [
    "new_df.shape"
   ]
  },
  {
   "cell_type": "markdown",
   "id": "540dc1b1-7f61-4ca4-911b-6c84c2192f3c",
   "metadata": {},
   "source": [
    "The 6 columns that should be null:\n",
    "- +/-\n",
    "- mp_max\n",
    "- mp_max.1\n",
    "- +/-_opp\n",
    "- mp_max_opp\n",
    "- mp_max_opp.1"
   ]
  },
  {
   "cell_type": "code",
   "execution_count": 13,
   "id": "f977e507-65ee-4aa9-b25e-b10f9b3c3a04",
   "metadata": {},
   "outputs": [
    {
     "data": {
      "text/plain": [
       "+/-             22760\n",
       "mp_max          22760\n",
       "mp_max.1        22760\n",
       "+/-_opp         22760\n",
       "mp_max_opp      22760\n",
       "mp_max_opp.1    22760\n",
       "dtype: int64"
      ]
     },
     "execution_count": 13,
     "metadata": {},
     "output_type": "execute_result"
    }
   ],
   "source": [
    "nulls = pd.isnull(new_df).sum()\n",
    "nulls = nulls[nulls > 0]\n",
    "nulls"
   ]
  },
  {
   "cell_type": "code",
   "execution_count": 14,
   "id": "f5473f91-de1f-40f8-9da3-3e3ee630c259",
   "metadata": {},
   "outputs": [
    {
     "data": {
      "text/plain": [
       "6"
      ]
     },
     "execution_count": 14,
     "metadata": {},
     "output_type": "execute_result"
    }
   ],
   "source": [
    "len(nulls)"
   ]
  }
 ],
 "metadata": {
  "kernelspec": {
   "display_name": "Python 3 (ipykernel)",
   "language": "python",
   "name": "python3"
  },
  "language_info": {
   "codemirror_mode": {
    "name": "ipython",
    "version": 3
   },
   "file_extension": ".py",
   "mimetype": "text/x-python",
   "name": "python",
   "nbconvert_exporter": "python",
   "pygments_lexer": "ipython3",
   "version": "3.12.3"
  }
 },
 "nbformat": 4,
 "nbformat_minor": 5
}
