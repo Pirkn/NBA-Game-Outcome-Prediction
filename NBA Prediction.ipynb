{
 "cells": [
  {
   "cell_type": "markdown",
   "id": "e60ffdcc-d4bb-4ba0-9cf6-5b52eb76cc7b",
   "metadata": {},
   "source": [
    "# NBA Game Outcome Prediction\n",
    "Projects objective is to predict future game winners by historical NBA game data."
   ]
  },
  {
   "cell_type": "markdown",
   "id": "be780651-3a78-4233-88df-3c414faf945f",
   "metadata": {},
   "source": [
    "**Team Total Features**:\n",
    "- `Basic Stats`:\n",
    "    - mp = Minutes Played\n",
    "    - fg = Field Goals\n",
    "    - fga = Field Goal Attempts\n",
    "    - fg% = Field Goal Percentage\n",
    "    - 3p = 3 Point field goals\n",
    "    - 3pa = 3 Point field goal attempts\n",
    "    - 3p% = 3 Point Field Goal Percentage\n",
    "    - ft = Free Throw\n",
    "    - fta = Free Throw Attempts\n",
    "    - ft% = Free Throw Percentage\n",
    "    - orb = Offensive Rebounds\n",
    "    - drb = Defensive Rebounds\n",
    "    - trb = Total Rebounds\n",
    "    - ast = Assists\n",
    "    - stl = Steal\n",
    "    - blk = Blocks\n",
    "    - tov = Turnovers\n",
    "    - pf = Personal Fouls\n",
    "    - pts = Points\n",
    "- `Advanced Stats`\n",
    "    - ts% = True shooting percentage\n",
    "    - efg% = Effective field Goal percentage\n",
    "    - 3par = 3-point attempt rate\n",
    "    - ftr = free throw attempt rate\n",
    "    - orb% = defensive rebound percentage\n",
    "    - trb% = total rebound percentage\n",
    "    - ast% = assist percentage\n",
    "    - stl% = steal percentage\n",
    "    - blk% = block percentage\n",
    "    - tov% = Turnovers percentage\n",
    "    - usg% = Usage Percentage\n",
    "    - ortg = Offensive Rating\n",
    "    - drtg = Deffensive Rating"
   ]
  },
  {
   "cell_type": "markdown",
   "id": "a3178170-8336-402c-bcb2-935ebb27c471",
   "metadata": {},
   "source": [
    "## Import Necessary Libraries"
   ]
  },
  {
   "cell_type": "code",
   "execution_count": 1,
   "id": "c442f2f2-3ce0-4ab2-bd7d-068d904d51d7",
   "metadata": {},
   "outputs": [],
   "source": [
    "import pandas as pd\n",
    "import numpy as np\n",
    "import matplotlib.pyplot as plt\n",
    "import seaborn as sns\n",
    "\n",
    "import optuna\n",
    "from sklearn.preprocessing import MinMaxScaler\n",
    "from sklearn.metrics import accuracy_score\n",
    "from sklearn.metrics import confusion_matrix\n",
    "\n",
    "from sklearn.model_selection import TimeSeriesSplit\n",
    "from sklearn.feature_selection import SequentialFeatureSelector\n",
    "from sklearn.linear_model import RidgeClassifier\n",
    "from xgboost import XGBClassifier\n",
    "from sklearn.cluster import KMeans\n",
    "from sklearn.linear_model import LogisticRegression\n",
    "\n",
    "import datetime\n",
    "from datetime import date\n",
    "import matplotlib.dates as mdates\n",
    "import time\n",
    "\n",
    "from tensorflow.keras.models import Sequential\n",
    "from tensorflow.keras.layers import Dense, Dropout, Input, BatchNormalization\n",
    "from tensorflow.keras.optimizers import Adam\n",
    "import tensorflow\n",
    "\n",
    "import warnings\n",
    "\n",
    "pd.set_option('display.max_columns', None)\n",
    "warnings.simplefilter(action='ignore', category=FutureWarning)\n",
    "warnings.simplefilter(action='ignore', category=DeprecationWarning)"
   ]
  },
  {
   "cell_type": "markdown",
   "id": "dd293fd2-72a4-4fa5-be56-2de4f1856f22",
   "metadata": {},
   "source": [
    "## READ INTO DF"
   ]
  },
  {
   "cell_type": "code",
   "execution_count": 4,
   "id": "7bc0fc15-0bf6-45f5-9da3-acb9672f17f0",
   "metadata": {},
   "outputs": [
    {
     "name": "stdout",
     "output_type": "stream",
     "text": [
      "<class 'pandas.core.frame.DataFrame'>\n",
      "RangeIndex: 22814 entries, 0 to 22813\n",
      "Columns: 150 entries, mp to won\n",
      "dtypes: bool(1), float64(140), int64(6), object(3)\n",
      "memory usage: 26.0+ MB\n"
     ]
    }
   ],
   "source": [
    "df = pd.read_csv(f'Historical Data/games_until_') # Enter the path to the last fully loaded dataset.\n",
    "df.info()"
   ]
  },
  {
   "cell_type": "markdown",
   "id": "324fb837-fc65-4784-b59c-0f70dcf1ef4b",
   "metadata": {},
   "source": [
    "### Baseline Accuracy"
   ]
  },
  {
   "cell_type": "code",
   "execution_count": 5,
   "id": "2f6c0124-c8c5-4918-a8eb-5a5a4e304df6",
   "metadata": {},
   "outputs": [
    {
     "data": {
      "text/plain": [
       "home\n",
       "0    0.43035\n",
       "1    0.56965\n",
       "dtype: float64"
      ]
     },
     "execution_count": 5,
     "metadata": {},
     "output_type": "execute_result"
    }
   ],
   "source": [
    "df.groupby(['home']).apply(lambda x: x[x['won'] == 1].shape[0]/ x.shape[0], include_groups=False)"
   ]
  },
  {
   "cell_type": "markdown",
   "id": "d0a46516-3abb-4779-b835-c47d286878a2",
   "metadata": {},
   "source": [
    "Baseline accuracy is 57% "
   ]
  },
  {
   "cell_type": "markdown",
   "id": "6e66ff2c-58f3-4813-a9a0-7868f31400a7",
   "metadata": {},
   "source": [
    "## Data Preprocessing PipeLine"
   ]
  },
  {
   "cell_type": "code",
   "execution_count": 6,
   "id": "48bfc84b-b513-43e1-b513-1f90a5d948f4",
   "metadata": {},
   "outputs": [],
   "source": [
    "# Because the target is the prediction of team`s next game 'win or lose' situation, shift 'won' column by -1\n",
    "def add_target(team):\n",
    "    team['target'] = team['won'].shift(-1)\n",
    "    return team"
   ]
  },
  {
   "cell_type": "code",
   "execution_count": 7,
   "id": "f7993821-b52e-4389-8e98-d7e6c9fe961c",
   "metadata": {},
   "outputs": [],
   "source": [
    "def shift_column(team, col_name):\n",
    "    next_col = team[col_name].shift(-1)\n",
    "    return next_col\n",
    "\n",
    "def add_column(df, col_name):\n",
    "    return df.groupby('team', group_keys=False).apply(lambda x: shift_column(x, col_name))"
   ]
  },
  {
   "cell_type": "code",
   "execution_count": 8,
   "id": "e4813f21-9cf0-444f-bec7-f1ced7e40f30",
   "metadata": {},
   "outputs": [],
   "source": [
    "def get_info(game_count):\n",
    "    games_dict = {}\n",
    "    \n",
    "    timedelta = datetime.timedelta(days=2)\n",
    "    tomorrow = date.today() + timedelta\n",
    "    game_date = tomorrow.strftime('%Y-%m-%d')\n",
    "    \n",
    "    for i in range(game_count):\n",
    "        print(f'{i + 1}. Game:')\n",
    "        home_team = input('Enter the Home Team: ')\n",
    "        away_team = input('Enter the Away Team: ')\n",
    "        #game_date = '2024-04-05' #input('Enter the Game Date (YYYY-MM-DD): ')\n",
    "        games_dict[f'{home_team}-{away_team}'] = {\n",
    "            'home_team': home_team,\n",
    "            'away_team': away_team, \n",
    "            'game_date': game_date,\n",
    "        }\n",
    "    return games_dict"
   ]
  },
  {
   "cell_type": "code",
   "execution_count": 9,
   "id": "58b72eb3-de52-424a-9649-764b5b7bac1f",
   "metadata": {},
   "outputs": [],
   "source": [
    "def fill_game_data(df, games_dict):\n",
    "    df = df.copy()\n",
    "\n",
    "    for key in games_dict:\n",
    "        # Initialize Game info for this particular game\n",
    "        home_team = games_dict[key]['home_team']\n",
    "        away_team = games_dict[key]['away_team']\n",
    "        game_date = games_dict[key]['game_date']\n",
    "\n",
    "        # Get indexes of home & away pov\n",
    "        home_index = df[(df['target'] == 2) & (df['team'] == home_team)].index[0]\n",
    "        away_index = df[(df['target'] == 2) & (df['team'] == away_team)].index[0]\n",
    "    \n",
    "        # Fill for home team\n",
    "        df.at[home_index, 'team_opp_next'] = away_team\n",
    "        df.at[home_index, 'home_next'] = 1\n",
    "        df.at[home_index, 'date_next'] = game_date\n",
    "    \n",
    "        # Fill for away team\n",
    "        df.at[away_index, 'team_opp_next'] = home_team\n",
    "        df.at[away_index, 'home_next'] = 0\n",
    "        df.at[away_index, 'date_next'] = game_date\n",
    "    \n",
    "        print(f'\\n\\nGame: {key}')\n",
    "        print(df.iloc[[home_index, away_index]][['team', 'team_opp', 'date', 'team_opp_next', 'date_next']])\n",
    "        print('\\n\\n')\n",
    "    return df"
   ]
  },
  {
   "cell_type": "code",
   "execution_count": 10,
   "id": "f99a7b4b-5cb7-45f5-9c3f-ec0f29e235ff",
   "metadata": {},
   "outputs": [],
   "source": [
    "def update_elo(win_team, lose_team, elo_ratings, last_season_dict, current_season, mov):\n",
    "    # Season reset for win_team\n",
    "    if current_season != last_season_dict[win_team]:\n",
    "        elo_ratings[win_team] = (elo_ratings[win_team] * 0.75) + (1500 * 0.25)\n",
    "        last_season_dict[win_team] = current_season\n",
    "\n",
    "    # Season reset for lose_team\n",
    "    if current_season != last_season_dict[lose_team]:\n",
    "        elo_ratings[lose_team] = (elo_ratings[lose_team] * 0.75) + (1500 * 0.25)\n",
    "        last_season_dict[lose_team] = current_season\n",
    "\n",
    "    # Update Elo ratings based on the game outcome\n",
    "    Ra = elo_ratings[win_team]\n",
    "    Rb = elo_ratings[lose_team]\n",
    "    Ea = 1 / (1 + 10 ** ((Rb - Ra) / 400))\n",
    "    Eb = 1 - Ea\n",
    "    \n",
    "    elo_difference = Ra - Rb\n",
    "    k = (20 * (mov + 3)**0.8) / (7.5 + 0.006 * elo_difference) # Constant\n",
    "    \n",
    "    elo_ratings[win_team] = Ra + k * (1 - Ea)\n",
    "    elo_ratings[lose_team] = Rb + k * (0 - Eb)\n",
    "\n",
    "    return elo_ratings, last_season_dict"
   ]
  },
  {
   "cell_type": "code",
   "execution_count": 11,
   "id": "debad6b6-7460-4295-b60c-d6f858f1115a",
   "metadata": {},
   "outputs": [],
   "source": [
    "def elo_handler(df):\n",
    "    # Initialize Elo ratings\n",
    "    teams = df['team'].unique()\n",
    "    elo_ratings = {team: 1500 for team in teams}\n",
    "    \n",
    "    # Create a unique identifier for each game\n",
    "    df['game_id'] = df.apply(lambda x: '_'.join(sorted([x['team'], x['team_opp']])) + '_' + x['date'], axis=1)\n",
    "    \n",
    "    # Initialize columns for pre-game Elo ratings\n",
    "    df['elo_pre_game'] = 0\n",
    "    df['opp_elo_pre_game'] = 0\n",
    "\n",
    "    # Initialize last season played game season for teams\n",
    "    last_season_dict = {team: 2016 for team in teams}\n",
    "    \n",
    "    # Main loop \n",
    "    for game_id in df['game_id'].unique():\n",
    "        game_rows = df[df['game_id'] == game_id]\n",
    "        for index, row in game_rows.iterrows():\n",
    "            team, opp = row['team'], row['team_opp']\n",
    "            \n",
    "            # Assign pre-game Elo ratings\n",
    "            df.at[index, 'elo_pre_game'] = elo_ratings[team]\n",
    "            df.at[index, 'opp_elo_pre_game'] = elo_ratings[opp]\n",
    "\n",
    "        # Update Elo ratings for both teams involved in the game\n",
    "        won_pov = game_rows[game_rows['won'] == 1]\n",
    "        mov = won_pov['total'].values[0] - won_pov['total_opp'].values[0]\n",
    "        elo_ratings, last_season_dict = update_elo(won_pov['team'].values[0], won_pov['team_opp'].values[0], elo_ratings, last_season_dict, won_pov['season'].values[0], mov)\n",
    "\n",
    "    df = df.drop(['game_id'], axis=1)\n",
    "    return df"
   ]
  },
  {
   "cell_type": "code",
   "execution_count": 12,
   "id": "94222b70-9166-4fa7-ad61-c2e44801c3b0",
   "metadata": {},
   "outputs": [],
   "source": [
    "def find_team_averages(team, rolling_window):\n",
    "    numeric_cols = team.select_dtypes(include=['number', 'bool']).drop(['some_id_or_binary_columns'], axis=1, errors='ignore')\n",
    "    rolling = numeric_cols.rolling(rolling_window, min_periods=1).mean()\n",
    "\n",
    "    rolling_renamed = rolling.add_suffix(f'_{rolling_window}')\n",
    "    \n",
    "    #team_updated = pd.concat([team, rolling_renamed], axis=1)\n",
    "    team_updated = rolling_renamed.drop(f'season_{rolling_window}', axis=1)\n",
    "    return team_updated\n",
    "\n",
    "def add_rolling_data(df_rolling, rolling_window):\n",
    "    df_copy = df_rolling.copy()\n",
    "    df_copy = df_copy.groupby(['team', 'season'], group_keys=False).apply(lambda x: find_team_averages(x, rolling_window))\n",
    "\n",
    "    rolling_cols = [col for col in df_copy.columns if f'_{rolling_window}' in col]\n",
    "\n",
    "    return df_copy, rolling_cols\n",
    "\n",
    "def add_rolling_columns(df, df_rolling):\n",
    "    merged_df = pd.concat([df, df_rolling], axis=1)\n",
    "\n",
    "    return merged_df"
   ]
  },
  {
   "cell_type": "code",
   "execution_count": 13,
   "id": "11be0530-54c9-46b3-b4f9-d0228ad92a9f",
   "metadata": {},
   "outputs": [],
   "source": [
    "def find_team_averages_conditional(team, rolling_window, metrics):\n",
    "    # Initialize a dictionary to store lists for each rolling average\n",
    "    rolling_data = {f'{col}_{rolling_window}': [] for col in metrics}\n",
    "    \n",
    "    for idx, row in team.iterrows():\n",
    "        if row['home_next'] == 1:\n",
    "            past_games = team[(team['home'] == 1) & (team['date'] < row['date'])]\n",
    "        else:\n",
    "            past_games = team[(team['home'] == 0) & (team['date'] < row['date'])]\n",
    "\n",
    "        for col in metrics:\n",
    "            col_name = f'{col}_{rolling_window}'\n",
    "            if not past_games.empty:\n",
    "                # Calculate the last value of rolling average if past_games is not empty\n",
    "                rolling_avg_last_value = past_games[col].rolling(window=rolling_window, min_periods=1).mean().iloc[-1]\n",
    "                rolling_data[col_name].append(rolling_avg_last_value)\n",
    "            else:\n",
    "                # Append NaN if past_games is empty\n",
    "                rolling_data[col_name].append(np.nan)\n",
    "                \n",
    "    # Convert the dictionary into a DataFrame\n",
    "    rolling_df = pd.DataFrame(rolling_data, index=team.index)\n",
    "    return rolling_df\n",
    "\n",
    "\n",
    "def add_conditional_rolling_data(df, rolling_window, metrics):\n",
    "    df_copy = df.copy()\n",
    "    conditional_rolling_results = df_copy.groupby(['team'], group_keys=False).apply(lambda x: find_team_averages_conditional(x, rolling_window, metrics))\n",
    "    \n",
    "    df_copy = pd.concat([df_copy, conditional_rolling_results], axis=1)\n",
    "    \n",
    "    return df_copy"
   ]
  },
  {
   "cell_type": "code",
   "execution_count": 14,
   "id": "36e8def4-05f4-4fea-b3c1-e01217067bd8",
   "metadata": {},
   "outputs": [],
   "source": [
    "def calculate_wr_next_opp(team):\n",
    "    team['wr_against_team_opp_next'] = np.nan\n",
    "    \n",
    "    for index, row in team.iterrows():\n",
    "        next_opp = row['team_opp_next']\n",
    "        date = row['date']\n",
    "\n",
    "        if pd.isna(next_opp):\n",
    "            continue\n",
    "\n",
    "        previous_matches_against_next_opponent = team[(team['team_opp'] == next_opp) & (team['date'] < date)]\n",
    "\n",
    "        if not previous_matches_against_next_opponent.empty:\n",
    "            wr = previous_matches_against_next_opponent['won'].mean()\n",
    "        else:\n",
    "            wr = 50\n",
    "            \n",
    "        team.at[index, 'wr_against_team_opp_next'] = wr\n",
    "    return team"
   ]
  },
  {
   "cell_type": "code",
   "execution_count": 15,
   "id": "af0c55fb-7425-42d7-a60b-9335981d79e6",
   "metadata": {},
   "outputs": [],
   "source": [
    "def calculate_wr_against_next_opponent_this_season(team):\n",
    "    team_name, season = team.name\n",
    "    # Initialize a column for win rate against next opponent this season with NaNs.\n",
    "    team['wr_against_team_opp_next_this_season'] = np.nan\n",
    "    \n",
    "    # Iterate through each row in the DataFrame to calculate the win rate against the next opponent.\n",
    "    for index, row in team.iterrows():\n",
    "        next_opponent = row['team_opp_next']\n",
    "        date = row['date']\n",
    "        key = f'{team_name} vs {next_opponent}'\n",
    "        \n",
    "        if pd.isna(next_opponent):\n",
    "            continue  # Skip if there's no next opponent listed.\n",
    "        \n",
    "        # Filter for games against the next opponent up to the current date.\n",
    "        previous_matches_against_next_opponent = team[(team['team_opp'] == next_opponent) & (team['date'] < date)]\n",
    "        \n",
    "        # Calculate win rate.\n",
    "        if not previous_matches_against_next_opponent.empty:\n",
    "            won_games = previous_matches_against_next_opponent['won'].sum()\n",
    "            total_games = len(previous_matches_against_next_opponent)\n",
    "            win_rate = (won_games / total_games) * 100\n",
    "        else:\n",
    "            win_rate = 50\n",
    "            \n",
    "        team.at[index, 'wr_against_team_opp_next_this_season'] = win_rate\n",
    "\n",
    "    return team"
   ]
  },
  {
   "cell_type": "code",
   "execution_count": 16,
   "id": "068ae17d-97fb-4478-8c0b-a058eb0ca70f",
   "metadata": {},
   "outputs": [],
   "source": [
    "def calculate_home_away_wr(team):\n",
    "    team['home_wr'] = np.nan\n",
    "    team['away_wr'] = np.nan\n",
    "\n",
    "    for index, row in team.iterrows():\n",
    "        home = row['home']\n",
    "        date = row['date']\n",
    "                    \n",
    "        previous_matches = team[(team['date'] < date)]\n",
    "        \n",
    "        home_matches = previous_matches[previous_matches['home'] == 1]\n",
    "        away_matches = previous_matches[previous_matches['home'] == 0]\n",
    "\n",
    "        if not home_matches.empty:\n",
    "            home_wr = home_matches['won'].mean()\n",
    "\n",
    "        if not away_matches.empty:\n",
    "            away_wr = away_matches['won'].mean()\n",
    "\n",
    "        if away_matches.empty and home_matches.empty:\n",
    "            home_wr = away_wr = 50\n",
    "        \n",
    "        team.at[index, 'home_wr'] = home_wr\n",
    "        team.at[index, 'away_wr'] = away_wr\n",
    "\n",
    "    return team"
   ]
  },
  {
   "cell_type": "code",
   "execution_count": 17,
   "id": "170cf5a9-b67f-4625-ad52-dff62be7eb76",
   "metadata": {},
   "outputs": [],
   "source": [
    "def calculate_win_streak(team):\n",
    "    win_streak = 0\n",
    "    win_streaks = []\n",
    "    \n",
    "    for win in team['won']:\n",
    "        if win:\n",
    "            win_streak += 1\n",
    "        else:\n",
    "            win_streak = 0\n",
    "            \n",
    "        win_streaks.append(win_streak)\n",
    "    team['win_streak'] = win_streaks\n",
    "    return team\n",
    "\n",
    "def add_win_streak(df):\n",
    "    return df.groupby('team', group_keys=False).apply(calculate_win_streak)\n",
    "\n",
    "def calculate_hotness(x):\n",
    "    if x >= 3:\n",
    "        return 1\n",
    "    else:\n",
    "        return 0"
   ]
  },
  {
   "cell_type": "code",
   "execution_count": 18,
   "id": "95599ce3-8de2-456a-b856-e6855a9ccd8a",
   "metadata": {},
   "outputs": [],
   "source": [
    "def calculate_lose_streak(team):\n",
    "    lose_streak = 0\n",
    "    lose_streaks = []\n",
    "    \n",
    "    for win in team['won']:\n",
    "        if not win:\n",
    "            lose_streak += 1\n",
    "        else:\n",
    "            lose_streak = 0\n",
    "            \n",
    "        lose_streaks.append(lose_streak)\n",
    "    team['lose_streak'] = lose_streaks\n",
    "    return team\n",
    "\n",
    "def add_lose_streak(df):\n",
    "    return df.groupby('team', group_keys=False).apply(calculate_lose_streak)\n",
    "\n",
    "def calculate_coldness(x):\n",
    "    if x >= 3:\n",
    "        return 1\n",
    "    else:\n",
    "        return 0"
   ]
  },
  {
   "cell_type": "code",
   "execution_count": 19,
   "id": "a973396b-628a-40ec-bbee-50484a1da603",
   "metadata": {},
   "outputs": [],
   "source": [
    "def get_games_to_predict(df, games_dict):\n",
    "    games = []\n",
    "    for key in games_dict:\n",
    "        # Initialize Game info for this particular game\n",
    "        home_team = games_dict[key]['home_team']\n",
    "        away_team = games_dict[key]['away_team']\n",
    "        game_date = games_dict[key]['game_date']\n",
    "\n",
    "        # Get Games\n",
    "        game_home = df[(df['team_x'] == home_team) & (df['team_y'] == away_team)].tail(1)\n",
    "        game_away = df[(df['team_x'] == away_team) & (df['team_y'] == home_team)].tail(1)\n",
    "\n",
    "        # Get Indexes\n",
    "        home_index = game_home.index[0]\n",
    "        away_index = game_away.index[0]\n",
    "\n",
    "        # Drop the games from main df\n",
    "        df = df.drop([home_index, away_index], axis=0)\n",
    "\n",
    "        # Append game to games\n",
    "        game = pd.concat([game_home, game_away], axis=0)\n",
    "        games.append(game)\n",
    "            \n",
    "    games_df = pd.concat(games, axis=0)\n",
    "    print(games_df[['team_x', 'team_y', 'date_next']])\n",
    "    return games_df, df"
   ]
  },
  {
   "cell_type": "code",
   "execution_count": 20,
   "id": "c7699fea-4f32-41bd-8673-0ffc66bbf50c",
   "metadata": {},
   "outputs": [],
   "source": [
    "def preprocess(df):\n",
    "    df = df.copy()\n",
    "\n",
    "    # ======================== DATA CLEANING ======================== #\n",
    "    # Sort Values According to Dates\n",
    "    df = df.sort_values('date')\n",
    "    df = df.reset_index(drop=True)\n",
    "\n",
    "    # Drop duplicate & Unnecesary columns\n",
    "    df = df.drop(['mp.1', 'mp_opp.1', 'index_opp'], axis=1)\n",
    "\n",
    "    # Add Target Column\n",
    "    df = df.groupby('team', group_keys=False).apply(add_target)\n",
    "\n",
    "    # Assign target null values to 2, True to 1, False to 0\n",
    "    df['target'] = df['target'].fillna(2)\n",
    "    df['target'] = df['target'].astype(int, errors='ignore')\n",
    "\n",
    "    # Remove Null Columns\n",
    "    nulls = pd.isnull(df).sum()\n",
    "    nulls = nulls[nulls > 0]\n",
    "    if len(nulls) > 7:\n",
    "        print('There are more then expected Nulls.')\n",
    "    df = df.drop(nulls.index, axis=1)    \n",
    "\n",
    "    # ======================== FUTURE COLUMNS ======================== #\n",
    "    # Add Necessary Columns to predict Future\n",
    "    df['home_next'] = add_column(df, 'home')\n",
    "    df['team_opp_next'] = add_column(df, 'team_opp')\n",
    "    df['date_next'] = add_column(df, 'date')\n",
    "\n",
    "    # ======================== GAMES TO PREDICT ======================== #\n",
    "    # Get information of future games to predict\n",
    "    game_count = int(input('How many games you want to predict? '))\n",
    "    games_dict = get_info(game_count) \n",
    "    \n",
    "    # Fill the future game to predict\n",
    "    df = fill_game_data(df, games_dict)\n",
    "\n",
    "    # ======================== ELO CALCULATION ======================== #\n",
    "    df = elo_handler(df)\n",
    "    elo_df = df[['team', 'team_opp', 'team_opp_next', 'elo_pre_game', 'date']].copy()\n",
    "   \n",
    "    # ======================== CALCULATION OF AVERAGE SCORES OVER LAST X GAMES ======================== #\n",
    "    # Add Rolling Data (Past games average for every team) \n",
    "    removed_columns = ['date', 'season', 'won', 'target', 'team', 'team_opp', 'team_opp_next', 'home_next', 'date_next']\n",
    "    selected_columns = df.columns[~df.columns.isin(removed_columns)]\n",
    "    \n",
    "    df_rolling = df[list(selected_columns) + ['won', 'team', 'season']]\n",
    "\n",
    "    df_rolling_20, rolling_20_cols = add_rolling_data(df_rolling, 20)\n",
    "    df_rolling_10, rolling_10_cols = add_rolling_data(df_rolling, 10)\n",
    "\n",
    "    df = add_rolling_columns(df, df_rolling_20)\n",
    "    df = add_rolling_columns(df, df_rolling_10)\n",
    "    df = df.dropna()\n",
    "\n",
    "    # rolling_window = 20\n",
    "    # df = add_conditional_rolling_data(df, rolling_window, selected_columns)\n",
    "    # rolling_cols = [f'{col}_20' for col in selected_columns]\n",
    "    # df = df.dropna()\n",
    "\n",
    "    # ======================== CALCULATION OF WINRATES ======================== #\n",
    "    # Calculate Winrate against next opponent\n",
    "    df = df.groupby(['team'], group_keys=False).apply(calculate_wr_next_opp)\n",
    "\n",
    "    # Calculate Winrate against nex opponent for current season\n",
    "    df = df.groupby(['team', 'season'], group_keys=False).apply(calculate_wr_against_next_opponent_this_season)\n",
    "\n",
    "    # Calculate Home & Away Winrates\n",
    "    df = df.groupby(['team'], group_keys=False).apply(calculate_home_away_wr)\n",
    "    \n",
    "    # Calculate Win Streak & Hotness of team\n",
    "    df = add_win_streak(df)\n",
    "    df['hot'] = df['win_streak'].apply(calculate_hotness)\n",
    "\n",
    "    # Calculate Lose Streak & Coldness of team\n",
    "    df = add_lose_streak(df)\n",
    "    df['cold'] = df['lose_streak'].apply(calculate_coldness)    \n",
    "\n",
    "    # ======================== FEATURE ENGINEERING ======================== #\n",
    "    # Mixture of features\n",
    "    df['win_streak_x_home_next'] = df['win_streak'] * df['home_next']\n",
    "    df['home_away_wr'] = (df['home_wr'] * df['home_next']) + (df['away_wr'] * (1 - df['home_next']))\n",
    "    df['home_away_wr_x_wr_against_next_opp'] = df['home_away_wr'] * df['wr_against_team_opp_next']\n",
    "    #df['odr'] = df['drtg'] defansif ofansif rating ekle\n",
    "    \n",
    "    # ======================== DATA SCALING ======================== #\n",
    "    # Scale Columns\n",
    "    removed_columns = ['date', 'season', 'won', 'target', 'team', 'team_opp', 'team_opp_next', 'date_next', 'home_next', 'hot', 'cold', 'home_away_wr',\n",
    "                      'home_away_wr_x_wr_against_next_opp', 'home_wr', 'away_wr']\n",
    "    selected_columns = df.columns[~df.columns.isin(removed_columns)]\n",
    "\n",
    "    scaler = MinMaxScaler()\n",
    "    df[selected_columns] = scaler.fit_transform(df[selected_columns])\n",
    "\n",
    "    # ======================== MERGE WITH NEXT OPPONENTS STATS ======================== #\n",
    "    # Merge With team_opp_next to get their stats in one row aswell\n",
    "    full_df = df.merge(\n",
    "    df[rolling_20_cols + rolling_10_cols + ['team_opp_next', 'date_next', 'team', 'elo_pre_game']], #\n",
    "    left_on=['team', 'date_next'],\n",
    "    right_on=['team_opp_next', 'date_next']\n",
    "    )\n",
    "    \n",
    "    full_df['elo_difference'] = full_df['elo_pre_game_x'] - full_df['elo_pre_game_y']\n",
    "    \n",
    "    # ======================== FINAL ======================== #\n",
    "    # Get game to predict\n",
    "    games_df, full_df = get_games_to_predict(full_df, games_dict)\n",
    "    return full_df, games_df, games_dict, elo_df"
   ]
  },
  {
   "cell_type": "code",
   "execution_count": 21,
   "id": "e7a763a3-08e9-4635-8cd0-442f16f9ea19",
   "metadata": {},
   "outputs": [
    {
     "name": "stdin",
     "output_type": "stream",
     "text": [
      "How many games you want to predict?  5\n"
     ]
    },
    {
     "name": "stdout",
     "output_type": "stream",
     "text": [
      "1. Game:\n"
     ]
    },
    {
     "name": "stdin",
     "output_type": "stream",
     "text": [
      "Enter the Home Team:  PHI\n",
      "Enter the Away Team:  ORL\n"
     ]
    },
    {
     "name": "stdout",
     "output_type": "stream",
     "text": [
      "2. Game:\n"
     ]
    },
    {
     "name": "stdin",
     "output_type": "stream",
     "text": [
      "Enter the Home Team:  WAS\n",
      "Enter the Away Team:  CHI\n"
     ]
    },
    {
     "name": "stdout",
     "output_type": "stream",
     "text": [
      "3. Game:\n"
     ]
    },
    {
     "name": "stdin",
     "output_type": "stream",
     "text": [
      "Enter the Home Team:  BOS\n",
      "Enter the Away Team:  CHO\n"
     ]
    },
    {
     "name": "stdout",
     "output_type": "stream",
     "text": [
      "4. Game:\n"
     ]
    },
    {
     "name": "stdin",
     "output_type": "stream",
     "text": [
      "Enter the Home Team:  IND\n",
      "Enter the Away Team:  CLE\n"
     ]
    },
    {
     "name": "stdout",
     "output_type": "stream",
     "text": [
      "5. Game:\n"
     ]
    },
    {
     "name": "stdin",
     "output_type": "stream",
     "text": [
      "Enter the Home Team:  NYK\n",
      "Enter the Away Team:  BRK\n"
     ]
    },
    {
     "name": "stdout",
     "output_type": "stream",
     "text": [
      "\n",
      "\n",
      "Game: PHI-ORL\n",
      "      team team_opp        date team_opp_next   date_next\n",
      "22764  PHI      DET  2024-04-09           ORL  2024-06-12\n",
      "22791  ORL      MIL  2024-04-10           PHI  2024-06-12\n",
      "\n",
      "\n",
      "\n",
      "\n",
      "\n",
      "Game: WAS-CHI\n",
      "      team team_opp        date team_opp_next   date_next\n",
      "22773  WAS      MIN  2024-04-09           CHI  2024-06-12\n",
      "22809  CHI      DET  2024-04-11           WAS  2024-06-12\n",
      "\n",
      "\n",
      "\n",
      "\n",
      "\n",
      "Game: BOS-CHO\n",
      "      team team_opp        date team_opp_next   date_next\n",
      "22808  BOS      NYK  2024-04-11           CHO  2024-06-12\n",
      "22802  CHO      ATL  2024-04-10           BOS  2024-06-12\n",
      "\n",
      "\n",
      "\n",
      "\n",
      "\n",
      "Game: IND-CLE\n",
      "      team team_opp        date team_opp_next   date_next\n",
      "22769  IND      TOR  2024-04-09           CLE  2024-06-12\n",
      "22797  CLE      MEM  2024-04-10           IND  2024-06-12\n",
      "\n",
      "\n",
      "\n",
      "\n",
      "\n",
      "Game: NYK-BRK\n",
      "      team team_opp        date team_opp_next   date_next\n",
      "22810  NYK      BOS  2024-04-11           BRK  2024-06-12\n",
      "22799  BRK      TOR  2024-04-10           NYK  2024-06-12\n",
      "\n",
      "\n",
      "\n",
      "      team_x team_y   date_next\n",
      "22760    PHI    ORL  2024-06-12\n",
      "22783    ORL    PHI  2024-06-12\n",
      "22769    WAS    CHI  2024-06-12\n",
      "22788    CHI    WAS  2024-06-12\n",
      "22787    BOS    CHO  2024-06-12\n",
      "22786    CHO    BOS  2024-06-12\n",
      "22765    IND    CLE  2024-06-12\n",
      "22784    CLE    IND  2024-06-12\n",
      "22789    NYK    BRK  2024-06-12\n",
      "22785    BRK    NYK  2024-06-12\n"
     ]
    },
    {
     "name": "stdout",
     "output_type": "stream",
     "text": [
      "7. Game:\n"
     ]
    },
    {
     "name": "stdout",
     "output_type": "stream",
     "text": [
      "Enter the Home Team:  PHI\n",
      "Enter the Away Team:  BRK\n"
     ]
    },
    {
     "name": "stdout",
     "output_type": "stream",
     "text": [
      "8. Game:\n"
     ]
    },
    {
     "name": "stdout",
     "output_type": "stream",
     "text": [
      "Enter the Home Team:  GSW\n",
      "Enter the Away Team:  UTA\n"
     ]
    },
    {
     "name": "stdout",
     "output_type": "stream",
     "text": [
      "9. Game:\n"
     ]
    },
    {
     "name": "stdout",
     "output_type": "stream",
     "text": [
      "Enter the Home Team:  LAC\n",
      "Enter the Away Team:  HOU\n"
     ]
    },
    {
     "name": "stdout",
     "output_type": "stream",
     "text": [
      "10. Game:\n"
     ]
    },
    {
     "name": "stdout",
     "output_type": "stream",
     "text": [
      "Enter the Home Team:  MEM\n",
      "Enter the Away Team:  DEN\n"
     ]
    },
    {
     "name": "stdout",
     "output_type": "stream",
     "text": [
      "11. Game:\n"
     ]
    },
    {
     "name": "stdout",
     "output_type": "stream",
     "text": [
      "Enter the Home Team:  MIN\n",
      "Enter the Away Team:  PHO\n"
     ]
    },
    {
     "name": "stdout",
     "output_type": "stream",
     "text": [
      "12. Game:\n"
     ]
    },
    {
     "name": "stdout",
     "output_type": "stream",
     "text": [
      "Enter the Home Team:  NOP\n",
      "Enter the Away Team:  LAL\n"
     ]
    },
    {
     "name": "stdout",
     "output_type": "stream",
     "text": [
      "13. Game:\n"
     ]
    },
    {
     "name": "stdout",
     "output_type": "stream",
     "text": [
      "Enter the Home Team:  OKC\n",
      "Enter the Away Team:  DAL\n"
     ]
    },
    {
     "name": "stdout",
     "output_type": "stream",
     "text": [
      "14. Game:\n"
     ]
    },
    {
     "name": "stdout",
     "output_type": "stream",
     "text": [
      "Enter the Home Team:  SAC\n",
      "Enter the Away Team:  POR\n"
     ]
    },
    {
     "name": "stdout",
     "output_type": "stream",
     "text": [
      "15. Game:\n"
     ]
    },
    {
     "name": "stdout",
     "output_type": "stream",
     "text": [
      "Enter the Home Team:  SAS\n",
      "Enter the Away Team:  DET\n"
     ]
    },
    {
     "name": "stdout",
     "output_type": "stream",
     "text": [
      "\n",
      "\n",
      "Game: BOS-WAS\n",
      "      team team_opp        date team_opp_next   date_next\n",
      "22839  BOS      CHO  2024-04-12           WAS  2024-04-16\n",
      "22843  WAS      CHI  2024-04-12           BOS  2024-04-16\n",
      "\n",
      "\n",
      "\n",
      "\n",
      "\n",
      "Game: CLE-CHO\n",
      "      team team_opp        date team_opp_next   date_next\n",
      "22837  CLE      IND  2024-04-12           CHO  2024-04-16\n",
      "22840  CHO      BOS  2024-04-12           CLE  2024-04-16\n",
      "\n",
      "\n",
      "\n",
      "\n",
      "\n",
      "Game: IND-ATL\n",
      "      team team_opp        date team_opp_next   date_next\n",
      "22838  IND      CLE  2024-04-12           ATL  2024-04-16\n",
      "22827  ATL      MIN  2024-04-12           IND  2024-04-16\n",
      "\n",
      "\n",
      "\n",
      "\n",
      "\n",
      "Game: MIA-TOR\n",
      "      team team_opp        date team_opp_next   date_next\n",
      "22842  MIA      TOR  2024-04-12           TOR  2024-04-16\n",
      "22829  TOR      MIA  2024-04-12           MIA  2024-04-16\n",
      "\n",
      "\n",
      "\n",
      "\n",
      "\n",
      "Game: NYK-CHI\n",
      "      team team_opp        date team_opp_next   date_next\n",
      "22815  NYK      BRK  2024-04-12           CHI  2024-04-16\n",
      "22841  CHI      WAS  2024-04-12           NYK  2024-04-16\n",
      "\n",
      "\n",
      "\n",
      "\n",
      "\n",
      "Game: ORL-MIL\n",
      "      team team_opp        date team_opp_next   date_next\n",
      "22818  ORL      PHI  2024-04-12           MIL  2024-04-16\n",
      "22816  MIL      OKC  2024-04-12           ORL  2024-04-16\n",
      "\n",
      "\n",
      "\n",
      "\n",
      "\n",
      "Game: PHI-BRK\n",
      "      team team_opp        date team_opp_next   date_next\n",
      "22826  PHI      ORL  2024-04-12           BRK  2024-04-16\n",
      "22814  BRK      NYK  2024-04-12           PHI  2024-04-16\n",
      "\n",
      "\n",
      "\n",
      "\n",
      "\n",
      "Game: GSW-UTA\n",
      "      team team_opp        date team_opp_next   date_next\n",
      "22834  GSW      NOP  2024-04-12           UTA  2024-04-16\n",
      "22833  UTA      LAC  2024-04-12           GSW  2024-04-16\n",
      "\n",
      "\n",
      "\n",
      "\n",
      "\n",
      "Game: LAC-HOU\n",
      "      team team_opp        date team_opp_next   date_next\n",
      "22832  LAC      UTA  2024-04-12           HOU  2024-04-16\n",
      "22820  HOU      POR  2024-04-12           LAC  2024-04-16\n",
      "\n",
      "\n",
      "\n",
      "\n",
      "\n",
      "Game: MEM-DEN\n",
      "      team team_opp        date team_opp_next   date_next\n",
      "22830  MEM      LAL  2024-04-12           DEN  2024-04-16\n",
      "22824  DEN      SAS  2024-04-12           MEM  2024-04-16\n",
      "\n",
      "\n",
      "\n",
      "\n",
      "\n",
      "Game: MIN-PHO\n",
      "      team team_opp        date team_opp_next   date_next\n",
      "22825  MIN      ATL  2024-04-12           PHO  2024-04-16\n",
      "22822  PHO      SAC  2024-04-12           MIN  2024-04-16\n",
      "\n",
      "\n",
      "\n",
      "\n",
      "\n",
      "Game: NOP-LAL\n",
      "      team team_opp        date team_opp_next   date_next\n",
      "22828  NOP      GSW  2024-04-12           LAL  2024-04-16\n",
      "22831  LAL      MEM  2024-04-12           NOP  2024-04-16\n",
      "\n",
      "\n",
      "\n",
      "\n",
      "\n",
      "Game: OKC-DAL\n",
      "      team team_opp        date team_opp_next   date_next\n",
      "22817  OKC      MIL  2024-04-12           DAL  2024-04-16\n",
      "22835  DAL      DET  2024-04-12           OKC  2024-04-16\n",
      "\n",
      "\n",
      "\n",
      "\n",
      "\n",
      "Game: SAC-POR\n",
      "      team team_opp        date team_opp_next   date_next\n",
      "22823  SAC      PHO  2024-04-12           POR  2024-04-16\n",
      "22821  POR      HOU  2024-04-12           SAC  2024-04-16\n",
      "\n",
      "\n",
      "\n",
      "\n",
      "\n",
      "Game: SAS-DET\n",
      "      team team_opp        date team_opp_next   date_next\n",
      "22819  SAS      DEN  2024-04-12           DET  2024-04-16\n",
      "22836  DET      DAL  2024-04-12           SAS  2024-04-16\n",
      "\n",
      "\n",
      "\n",
      "      team_x team_y   date_next\n",
      "22835    BOS    WAS  2024-04-16\n",
      "22839    WAS    BOS  2024-04-16\n",
      "22833    CLE    CHO  2024-04-16\n",
      "22836    CHO    CLE  2024-04-16\n",
      "22834    IND    ATL  2024-04-16\n",
      "22823    ATL    IND  2024-04-16\n",
      "22838    MIA    TOR  2024-04-16\n",
      "22825    TOR    MIA  2024-04-16\n",
      "22811    NYK    CHI  2024-04-16\n",
      "22837    CHI    NYK  2024-04-16\n",
      "22814    ORL    MIL  2024-04-16\n",
      "22812    MIL    ORL  2024-04-16\n",
      "22822    PHI    BRK  2024-04-16\n",
      "22810    BRK    PHI  2024-04-16\n",
      "22830    GSW    UTA  2024-04-16\n",
      "22829    UTA    GSW  2024-04-16\n",
      "22828    LAC    HOU  2024-04-16\n",
      "22816    HOU    LAC  2024-04-16\n",
      "22826    MEM    DEN  2024-04-16\n",
      "22820    DEN    MEM  2024-04-16\n",
      "22821    MIN    PHO  2024-04-16\n",
      "22818    PHO    MIN  2024-04-16\n",
      "22824    NOP    LAL  2024-04-16\n",
      "22827    LAL    NOP  2024-04-16\n",
      "22813    OKC    DAL  2024-04-16\n",
      "22831    DAL    OKC  2024-04-16\n",
      "22819    SAC    POR  2024-04-16\n",
      "22817    POR    SAC  2024-04-16\n",
      "22815    SAS    DET  2024-04-16\n",
      "22832    DET    SAS  2024-04-16\n"
     ]
    }
   ],
   "source": [
    "processed_df, games_df, games_dict, elo_df = preprocess(df)"
   ]
  },
  {
   "cell_type": "code",
   "execution_count": 22,
   "id": "a562fe84-0205-469f-97ba-e96269c744dc",
   "metadata": {},
   "outputs": [],
   "source": [
    "def backtest_with_feature_importance(data, model, predictors, start=2, step=1):\n",
    "    \"\"\" Backtest function to get feature importance \"\"\"\n",
    "    all_predictions = []\n",
    "    feature_importances = pd.DataFrame(index=predictors)\n",
    "\n",
    "    seasons = sorted(data['season'].unique())\n",
    "\n",
    "    for i in range(start, len(seasons), step):\n",
    "        season = seasons[i]\n",
    "\n",
    "        train = data[data['season'] < season]\n",
    "        test = data[data['season'] == season]\n",
    "\n",
    "        model.fit(train[predictors], train['target'])\n",
    "\n",
    "        preds = model.predict(test[predictors])\n",
    "        preds = pd.Series(preds, index=test.index)\n",
    "        combined = pd.concat([test['target'], preds], axis=1)\n",
    "        combined.columns = ['actual', 'prediction']\n",
    "        \n",
    "        all_predictions.append(combined)\n",
    "\n",
    "        # Extract feature importance from the model, ensure compatibility across model types\n",
    "        if hasattr(model, 'feature_importances_'):\n",
    "            season_importance = pd.Series(model.feature_importances_, index=predictors)\n",
    "        else:  # For models that do not have feature_importances_ attribute\n",
    "            season_importance = pd.Series([0]*len(predictors), index=predictors)\n",
    "        \n",
    "        feature_importances[f'season_{season}'] = season_importance\n",
    "\n",
    "    # Calculate the mean importance across all seasons\n",
    "    feature_importances['mean_importance'] = feature_importances.mean(axis=1)\n",
    "    feature_importances = feature_importances.sort_values(by='mean_importance', ascending=False)\n",
    "    \n",
    "    return pd.concat(all_predictions), feature_importances"
   ]
  },
  {
   "cell_type": "code",
   "execution_count": 60,
   "id": "d3216ebc-6ec4-419f-8f74-264963089380",
   "metadata": {},
   "outputs": [],
   "source": [
    "rr_predictors = ['orb_max', 'ast%_max', '3p%_opp', 'ft%_opp', 'drb_opp', 'ts%_opp', 'orb%_opp', 'trb%_opp', '3pa_10_x', 'ast_10_x', 'ft_max_10_x',\n",
    "             'pts_max_10_x', 'orb%_max_10_x', 'drb%_max_10_x', 'blk%_opp_10_x', 'orb_max_opp_10_x', 'fg_10_y', '3pa_10_y', 'ft_max_10_y', \n",
    "             '3p%_opp_10_y', 'ft_opp_10_y', 'blk%_opp_10_y', 'ft_max_opp_10_y', '+/-_max_opp_10_y', 'total_opp_10_y', 'wr_against_team_opp_next',\n",
    "             'home_next', 'hot', 'cold', 'efg%_20_x',\n",
    "             '3pa_20_x', 'ast_20_x', 'ft_max_20_x', 'pts_max_20_x', 'orb%_max_20_x', 'drb%_max_20_x', 'blk%_opp_20_x','orb_max_opp_20_x',\n",
    "             'total_opp_20_x', 'fg_20_y', '3pa_20_y', 'ft_max_20_y', 'pts_max_20_y', 'ast%_max_20_y', '3p%_opp_20_y', 'ft_opp_20_y', 'blk%_opp_20_y',\n",
    "             'ft_max_opp_20_y', '+/-_max_opp_20_y', 'total_opp_20_y', '+/-_max_20_x',  '+/-_max_20_y', '+/-_max_opp_20_x', 'drtg_max_opp_20_x',\n",
    "             '+/-_max_10_x', '+/-_max_10_y', '+/-_max_opp_10_x', 'drtg_max_opp_10_x', 'efg%_10_x', 'elo_pre_game_x', 'elo_pre_game_y',\n",
    "             ]\n",
    "\n",
    "xgb_predictors = [\n",
    "       'elo_pre_game_y', 'elo_pre_game_x', '+/-_max_20_y', '+/-_max_opp_20_y',\n",
    "       '+/-_max_opp_20_x', '+/-_max_20_x', '+/-_max_opp_10_y', '+/-_max_10_y',\n",
    "       'home_next', '+/-_max_10_x', '+/-_max_opp_10_x', 'pts_max_20_y',\n",
    "       'efg%_20_x', 'total_opp_20_x', 'ast%_max_20_y', 'drtg_max_opp_20_x',\n",
    "       'efg%_10_x', 'ast%_max', 'blk%_opp_20_y', 'blk%_opp_20_x',\n",
    "       'blk%_opp_10_y', 'ft%_opp', '3p%_opp_10_y', '3p%_opp_20_y',\n",
    "       'pts_max_20_x', 'trb%_opp', 'drb%_max_10_x', 'blk%_opp_10_x',\n",
    "       'drtg_max_opp_10_x', 'total_opp_20_y',\n",
    "    \n",
    "]\n",
    "\n",
    "removed_columns = list(processed_df.columns[processed_df.dtypes == 'object']) +  list(['date', 'season', 'won', 'target', 'team', 'team_opp'])\n",
    "selected_columns = processed_df.columns[~processed_df.columns.isin(removed_columns)]\n",
    "\n",
    "#rr = RidgeClassifier()\n",
    "\n",
    "#xgb = XGBClassifier()\n",
    "#predictions, feature_importances = backtest_with_feature_importance(processed_df, xgb, selected_columns)\n"
   ]
  },
  {
   "cell_type": "code",
   "execution_count": 24,
   "id": "085e8bb3-761a-4db1-9018-01aad516d99b",
   "metadata": {},
   "outputs": [],
   "source": [
    "def backtest(data, model, predictors, start=2, step=1):\n",
    "    \"\"\" Backtest function to look at model accuracies \"\"\"\n",
    "    all_predictions = []\n",
    "\n",
    "    seasons = sorted(data['season'].unique())\n",
    "\n",
    "    for i in range(start, len(seasons), step):\n",
    "        season = seasons[i]\n",
    "\n",
    "        train = data[data['season'] < season]\n",
    "        test = data[data['season'] == season]\n",
    "\n",
    "        model.fit(train[predictors], train['target'])\n",
    "\n",
    "        preds = model.predict(test[predictors])\n",
    "        preds = pd.Series(preds, index=test.index)\n",
    "\n",
    "        combined = pd.concat([test['target'], preds], axis=1)\n",
    "        combined.columns = ['actual', 'prediction']\n",
    "        \n",
    "        all_predictions.append(combined)\n",
    "    return pd.concat(all_predictions)"
   ]
  },
  {
   "cell_type": "markdown",
   "id": "c94bff1b-64e7-4eb4-856f-77db5f5a6d04",
   "metadata": {},
   "source": [
    "## HyperParameter Tuning with Optuna"
   ]
  },
  {
   "cell_type": "code",
   "execution_count": 25,
   "id": "98341cf1-476d-41c4-afa6-38fc3d4500e9",
   "metadata": {},
   "outputs": [],
   "source": [
    "def rr_objective(trial, df, predictors):\n",
    "    # Suggest hyperparameters\n",
    "    param = {\n",
    "        'alpha': trial.suggest_float('alpha', 0.0001, 10.0, log=True)\n",
    "    }\n",
    "    \n",
    "    # Initialize model with suggested parameters\n",
    "    model = RidgeClassifier(**param)\n",
    "    \n",
    "    # Use the backtest function to evaluate the model\n",
    "    results = backtest(df, model, predictors)\n",
    "    \n",
    "    # Calculate average accuracy across all seasons\n",
    "    results['correct'] = results['actual'] == results['prediction']\n",
    "    accuracy = results['correct'].mean()\n",
    "    \n",
    "    return accuracy"
   ]
  },
  {
   "cell_type": "code",
   "execution_count": 26,
   "id": "50817944-3df7-401d-807a-5c980d5d23d6",
   "metadata": {},
   "outputs": [],
   "source": [
    "def xgb_objective(trial, df, predictors):\n",
    "    param = {\n",
    "        'verbosity': 0,\n",
    "        'objective': 'binary:logistic',\n",
    "        'lambda': trial.suggest_float('lambda', 1e-8, 10.0, log=True),\n",
    "        'alpha': trial.suggest_float('alpha', 1e-8, 10.0, log=True),\n",
    "        'colsample_bytree': trial.suggest_float('colsample_bytree', 0.1, 1),\n",
    "        'subsample': trial.suggest_float('subsample', 0.1, 1),\n",
    "        'learning_rate': trial.suggest_float('learning_rate', 0.01, 0.3),\n",
    "        'n_estimators': trial.suggest_int('n_estimators', 100, 1000),\n",
    "        'max_depth': trial.suggest_int('max_depth', 3, 9),\n",
    "        'min_child_weight': trial.suggest_int('min_child_weight', 1, 300),\n",
    "    }\n",
    "    \n",
    "    # Initialize model with suggested parameters\n",
    "    model = XGBClassifier(**param)\n",
    "    \n",
    "    # Use the backtest function to evaluate the model\n",
    "    results = backtest(df, model, predictors)\n",
    "    \n",
    "    # Calculate average accuracy across all seasons\n",
    "    results['correct'] = results['actual'] == results['prediction']\n",
    "    accuracy = results['correct'].mean()\n",
    "    \n",
    "    return accuracy"
   ]
  },
  {
   "cell_type": "code",
   "execution_count": 27,
   "id": "d3ad113d-32e4-48e7-9b1e-65d7500e8bbe",
   "metadata": {},
   "outputs": [],
   "source": [
    "def logreg_objective(trial, df, predictors):\n",
    "    # Suggest hyperparameters for LogisticRegression\n",
    "    param = {\n",
    "        'C': trial.suggest_float('C', 1e-4, 1e4, log=True),\n",
    "        'max_iter': trial.suggest_int('max_iter', 100, 1000),\n",
    "        'solver': trial.suggest_categorical('solver', ['newton-cg', 'lbfgs', 'liblinear', 'sag', 'saga']),\n",
    "    }\n",
    "    \n",
    "    # Initialize LogisticRegression with suggested parameters\n",
    "    model = LogisticRegression(**param, random_state=42)\n",
    "\n",
    "    # Use the backtest function to evaluate the model\n",
    "    results = backtest(df, model, predictors)\n",
    "    \n",
    "    # Calculate average accuracy across all seasons\n",
    "    results['correct'] = results['actual'] == results['prediction']\n",
    "    accuracy = results['correct'].mean()\n",
    "    \n",
    "    return accuracy"
   ]
  },
  {
   "cell_type": "code",
   "execution_count": 28,
   "id": "84271e95-f3f6-4b57-a1e1-a57624ee546c",
   "metadata": {},
   "outputs": [],
   "source": [
    "# RR HyperParameter Tuning\n",
    "def rr_hyperparameter_tuning(processed_df, selected_columns):\n",
    "    study = optuna.create_study(direction='maximize')\n",
    "    study.optimize(lambda trial: rr_objective(trial, processed_df, selected_columns), n_trials=300)\n",
    "    \n",
    "    best_params = study.best_trial.params\n",
    "    print(\"Best params:\", best_params)\n",
    "\n",
    "# XGB HyperParameter Tuning\n",
    "def xgb_hyperparameter_tuning(processed_df, selected_columns):\n",
    "    study = optuna.create_study(direction='maximize')\n",
    "    study.optimize(lambda trial: xgb_objective(trial, processed_df, selected_columns), n_trials=300)\n",
    "    \n",
    "    best_params = study.best_trial.params\n",
    "    print(\"Best params:\", best_params)\n",
    "\n",
    "def logreg_hyperparameter_tuning(df, predictors):\n",
    "    study = optuna.create_study(direction='maximize')\n",
    "    study.optimize(lambda trial: logreg_objective(trial, df, predictors), n_trials=100)\n",
    "    \n",
    "    best_params = study.best_trial.params\n",
    "    print(\"Best params:\", best_params)\n",
    "\n",
    "#rr_hyperparameter_tuning(processed_df, rr_predictors)\n",
    "rr = RidgeClassifier(alpha=0.9057344254190455)\n",
    "    \n",
    "#xgb_hyperparameter_tuning(processed_df, xgb_predictors)\n",
    "xgb = XGBClassifier(reg_lambda=  0.005493550813162956,\n",
    "                    alpha= 0.11711953180019787,\n",
    "                    colsample_bytree= 0.5856632844701086,\n",
    "                    subsample= 0.5888723418968987,\n",
    "                    learning_rate= 0.015070807283932237,\n",
    "                    n_estimators= 599,\n",
    "                    max_depth= 8,\n",
    "                    min_child_weight= 245)\n",
    "\n",
    "#logreg_hyperparameter_tuning(processed_df, rr_predictors)\n",
    "logreg = LogisticRegression(C=33.95224515841446,\n",
    "                            max_iter=753,\n",
    "                            solver= 'lbfgs')"
   ]
  },
  {
   "cell_type": "markdown",
   "id": "86c24d25-a1cb-48cf-b433-9394af95c67b",
   "metadata": {},
   "source": [
    "## Model Evaluation"
   ]
  },
  {
   "cell_type": "code",
   "execution_count": 29,
   "id": "58f8d715-3797-41db-b63c-31f86f5135ed",
   "metadata": {},
   "outputs": [
    {
     "name": "stdout",
     "output_type": "stream",
     "text": [
      "Doğruluk Oranı: %65.05\n",
      "\n"
     ]
    },
    {
     "data": {
      "image/png": "[encoded data removed]",
      "text/plain": [
       "<Figure size 640x480 with 2 Axes>"
      ]
     },
     "metadata": {},
     "output_type": "display_data"
    }
   ],
   "source": [
    "# Backtest\n",
    "rr_predictions = backtest(processed_df, rr, rr_predictors)\n",
    "score = accuracy_score(rr_predictions['actual'], rr_predictions['prediction'])\n",
    "print(f'Doğruluk Oranı: %{round((score * 100), 2)}\\n')\n",
    "\n",
    "# Confusion Matrix\n",
    "cm = confusion_matrix(rr_predictions['actual'], rr_predictions['prediction'])\n",
    "sns.heatmap(cm, annot=True, fmt=\"d\", cmap=\"Blues\", xticklabels=[\"Predicted 0\", \"Predicted 1\"], yticklabels=[\"Actual 0\", \"Actual 1\"])\n",
    "plt.title(\"Confusion Matrix\")\n",
    "plt.show()"
   ]
  },
  {
   "cell_type": "code",
   "execution_count": 30,
   "id": "f526db28-5db1-4c84-8b2b-670ce65fcabd",
   "metadata": {},
   "outputs": [
    {
     "name": "stdout",
     "output_type": "stream",
     "text": [
      "Doğruluk Oranı: %64.77\n",
      "\n"
     ]
    },
    {
     "data": {
      "image/png": "[encoded data removed]",
      "text/plain": [
       "<Figure size 640x480 with 2 Axes>"
      ]
     },
     "metadata": {},
     "output_type": "display_data"
    }
   ],
   "source": [
    "# Backtest\n",
    "xgb_predictions = backtest(processed_df, xgb, xgb_predictors)\n",
    "score = accuracy_score(xgb_predictions['actual'], xgb_predictions['prediction'])\n",
    "print(f'Doğruluk Oranı: %{round((score * 100), 2)}\\n')\n",
    "\n",
    "# Confusion Matrix\n",
    "cm = confusion_matrix(xgb_predictions['actual'], xgb_predictions['prediction'])\n",
    "sns.heatmap(cm, annot=True, fmt=\"d\", cmap=\"Blues\", xticklabels=[\"Predicted 0\", \"Predicted 1\"], yticklabels=[\"Actual 0\", \"Actual 1\"])\n",
    "plt.title(\"Confusion Matrix\")\n",
    "plt.show()"
   ]
  },
  {
   "cell_type": "code",
   "execution_count": 31,
   "id": "7225999d-d4fa-4f0c-bd8b-06636c27d92b",
   "metadata": {},
   "outputs": [
    {
     "name": "stdout",
     "output_type": "stream",
     "text": [
      "Doğruluk Oranı: %64.94\n",
      "\n"
     ]
    },
    {
     "data": {
      "image/png": "[encoded data removed]",
      "text/plain": [
       "<Figure size 640x480 with 2 Axes>"
      ]
     },
     "metadata": {},
     "output_type": "display_data"
    }
   ],
   "source": [
    "# Backtest\n",
    "logreg_predictions = backtest(processed_df, logreg, rr_predictors)\n",
    "score = accuracy_score(logreg_predictions['actual'], logreg_predictions['prediction'])\n",
    "print(f'Doğruluk Oranı: %{round((score * 100), 2)}\\n')\n",
    "\n",
    "# Confusion Matrix\n",
    "cm = confusion_matrix(xgb_predictions['actual'], xgb_predictions['prediction'])\n",
    "sns.heatmap(cm, annot=True, fmt=\"d\", cmap=\"Blues\", xticklabels=[\"Predicted 0\", \"Predicted 1\"], yticklabels=[\"Actual 0\", \"Actual 1\"])\n",
    "plt.title(\"Confusion Matrix\")\n",
    "plt.show()"
   ]
  },
  {
   "cell_type": "code",
   "execution_count": 32,
   "id": "30e951a5-49a0-43c8-8627-019f6786b212",
   "metadata": {},
   "outputs": [
    {
     "name": "stdout",
     "output_type": "stream",
     "text": [
      "Doğruluk Oranı: %65.05\n",
      "\n"
     ]
    },
    {
     "data": {
      "image/png": "[encoded data removed]",
      "text/plain": [
       "<Figure size 640x480 with 2 Axes>"
      ]
     },
     "metadata": {},
     "output_type": "display_data"
    }
   ],
   "source": [
    "# Ensemble Models\n",
    "predictions_df = pd.concat([rr_predictions['prediction'], xgb_predictions['prediction'], logreg_predictions['prediction']], axis=1)\n",
    "ensemble_prediction = predictions_df.apply(lambda x: x.mode()[0], axis=1)\n",
    "\n",
    "score = accuracy_score(logreg_predictions['actual'], ensemble_prediction)\n",
    "print(f'Doğruluk Oranı: %{round((score * 100), 2)}\\n')\n",
    "\n",
    "# Confusion Matrix\n",
    "cm = confusion_matrix(logreg_predictions['actual'], ensemble_prediction)\n",
    "sns.heatmap(cm, annot=True, fmt=\"d\", cmap=\"Blues\", xticklabels=[\"Predicted 0\", \"Predicted 1\"], yticklabels=[\"Actual 0\", \"Actual 1\"])\n",
    "plt.title(\"Confusion Matrix\")\n",
    "plt.show()"
   ]
  },
  {
   "cell_type": "markdown",
   "id": "2f55280e-3753-4dbe-af7d-a072782722e5",
   "metadata": {},
   "source": [
    "## Game Predictions - Results"
   ]
  },
  {
   "cell_type": "code",
   "execution_count": 33,
   "id": "8f80102d-048a-4f34-bb9e-a8db5a362c54",
   "metadata": {},
   "outputs": [],
   "source": [
    "def print_winner(df, prediction, games_dict):\n",
    "    for key, i in zip(games_dict, range(0, int(len(prediction)), 2)):\n",
    "        \n",
    "        # Initialize Game info for this particular game\n",
    "        home_team = games_dict[key]['home_team']\n",
    "        away_team = games_dict[key]['away_team']\n",
    "        game_date = games_dict[key]['game_date']\n",
    "        \n",
    "        home_win_pred = prediction[i]\n",
    "        away_win_pred = prediction[i+1]\n",
    "        \n",
    "        print(f'\\n\\n Home Team --> {home_team} vs {away_team} <-- Away Team')\n",
    "        if home_win_pred == away_win_pred:\n",
    "            print(f'There is error both teams prediction seems to be same.')\n",
    "        elif home_win_pred:\n",
    "            print(f'\\t\\t{home_team} WINS!\\n\\n')\n",
    "        elif away_win_pred: \n",
    "            print(f'\\t\\t{away_team} WINS!\\n\\n')"
   ]
  },
  {
   "cell_type": "code",
   "execution_count": 34,
   "id": "c7926908-0715-4d8a-9078-7b7c802b4e9d",
   "metadata": {},
   "outputs": [
    {
     "name": "stdout",
     "output_type": "stream",
     "text": [
      "\n",
      "\n",
      " Home Team --> PHI vs ORL <-- Away Team\n",
      "\t\tPHI WINS!\n",
      "\n",
      "\n",
      "\n",
      "\n",
      " Home Team --> WAS vs CHI <-- Away Team\n",
      "\t\tCHI WINS!\n",
      "\n",
      "\n",
      "\n",
      "\n",
      " Home Team --> BOS vs CHO <-- Away Team\n",
      "\t\tBOS WINS!\n",
      "\n",
      "\n",
      "\n",
      "\n",
      " Home Team --> IND vs CLE <-- Away Team\n",
      "\t\tIND WINS!\n",
      "\n",
      "\n",
      "\n",
      "\n",
      " Home Team --> NYK vs BRK <-- Away Team\n",
      "\t\tNYK WINS!\n",
      "\n",
      "\n"
     ]
    }
   ],
   "source": [
    "# Train the model & predict games (rr)\n",
    "rr_model = rr.fit(processed_df[rr_predictors], processed_df['target'])\n",
    "rr_prediction = rr_model.predict(games_df[rr_predictors])\n",
    "\n",
    "print_winner(df, rr_prediction, games_dict)"
   ]
  },
  {
   "cell_type": "code",
   "execution_count": 35,
   "id": "50e8105f-ea04-47c0-abcd-256bc96919ab",
   "metadata": {},
   "outputs": [
    {
     "name": "stdout",
     "output_type": "stream",
     "text": [
      "\n",
      "\n",
      " Home Team --> PHI vs ORL <-- Away Team\n",
      "\t\tPHI WINS!\n",
      "\n",
      "\n",
      "\n",
      "\n",
      " Home Team --> WAS vs CHI <-- Away Team\n",
      "\t\tCHI WINS!\n",
      "\n",
      "\n",
      "\n",
      "\n",
      " Home Team --> BOS vs CHO <-- Away Team\n",
      "\t\tBOS WINS!\n",
      "\n",
      "\n",
      "\n",
      "\n",
      " Home Team --> IND vs CLE <-- Away Team\n",
      "\t\tIND WINS!\n",
      "\n",
      "\n",
      "\n",
      "\n",
      " Home Team --> NYK vs BRK <-- Away Team\n",
      "\t\tNYK WINS!\n",
      "\n",
      "\n"
     ]
    }
   ],
   "source": [
    "# Train the model & predict games (xgb)\n",
    "xgb_model = xgb.fit(processed_df[xgb_predictors], processed_df['target'])\n",
    "xgb_prediction = xgb_model.predict(games_df[xgb_predictors])\n",
    "\n",
    "print_winner(df, xgb_prediction, games_dict)"
   ]
  },
  {
   "cell_type": "markdown",
   "id": "b8c4e154-197c-4f57-a038-fb1910a79006",
   "metadata": {},
   "source": [
    "#### Precision Recall Curve"
   ]
  },
  {
   "cell_type": "code",
   "execution_count": 61,
   "id": "78428cc1-ddf3-403a-b879-be6a15d55157",
   "metadata": {},
   "outputs": [
    {
     "data": {
      "image/png": "[encoded data removed]",
      "text/plain": [
       "<Figure size 640x480 with 1 Axes>"
      ]
     },
     "metadata": {},
     "output_type": "display_data"
    }
   ],
   "source": [
    "from sklearn.metrics import precision_recall_curve\n",
    "import matplotlib.pyplot as plt\n",
    "\n",
    "# Get the prediction probabilities\n",
    "xgb_probs = xgb_model.predict_proba(processed_df[xgb_predictors])\n",
    "\n",
    "# Compute precision-recall curve\n",
    "precision, recall, thresholds = precision_recall_curve(processed_df['target'], xgb_probs[:, 1])\n",
    "\n",
    "# Plot precision-recall curve\n",
    "plt.plot(thresholds, precision[:-1], 'b-', label='Precision')\n",
    "plt.plot(thresholds, recall[:-1], 'r-', label='Recall')\n",
    "plt.xlabel('Threshold')\n",
    "plt.ylabel('Score')\n",
    "plt.legend()\n",
    "plt.show()"
   ]
  },
  {
   "cell_type": "code",
   "execution_count": 62,
   "id": "881c07e1-859c-43da-a762-fb9ef41993d5",
   "metadata": {},
   "outputs": [
    {
     "data": {
      "text/plain": [
       "0.69684964"
      ]
     },
     "execution_count": 62,
     "metadata": {},
     "output_type": "execute_result"
    }
   ],
   "source": [
    "threshold_80_precision = thresholds[np.argmax(precision >= 0.8)]\n",
    "threshold_80_precision"
   ]
  },
  {
   "cell_type": "code",
   "execution_count": 63,
   "id": "bc5dedf9-9311-4e1b-adab-bb38925c0e8c",
   "metadata": {},
   "outputs": [
    {
     "data": {
      "text/plain": [
       "0.2791922739244952"
      ]
     },
     "execution_count": 63,
     "metadata": {},
     "output_type": "execute_result"
    }
   ],
   "source": [
    "recall_80_precision = recall[np.argmax(precision >= 0.8)]\n",
    "recall_80_precision"
   ]
  },
  {
   "cell_type": "code",
   "execution_count": 38,
   "id": "e041eaaa-92ee-4a01-abdd-7e385864a3cd",
   "metadata": {},
   "outputs": [],
   "source": [
    "y_train_pred_80 = (xgb_probs[:, 1] >= threshold_80_precision)"
   ]
  },
  {
   "cell_type": "code",
   "execution_count": 39,
   "id": "c44accaa-dc63-40c6-b4e1-785bfdb92461",
   "metadata": {},
   "outputs": [
    {
     "data": {
      "text/plain": [
       "0.8"
      ]
     },
     "execution_count": 39,
     "metadata": {},
     "output_type": "execute_result"
    }
   ],
   "source": [
    "from sklearn.metrics import precision_score\n",
    "precision_score(processed_df['target'], y_train_pred_80)"
   ]
  },
  {
   "cell_type": "code",
   "execution_count": 40,
   "id": "6d060be2-5141-4cea-8937-a3b0f945d878",
   "metadata": {},
   "outputs": [],
   "source": [
    "xgb_probs = xgb_model.predict_proba(games_df[xgb_predictors])"
   ]
  },
  {
   "cell_type": "code",
   "execution_count": 41,
   "id": "3cbee28c-b02f-4f70-9308-fe97fc90d8cc",
   "metadata": {},
   "outputs": [
    {
     "data": {
      "text/plain": [
       "array([[0.45918638, 0.5408136 ],\n",
       "       [0.5186678 , 0.4813322 ],\n",
       "       [0.7423264 , 0.2576736 ],\n",
       "       [0.25452006, 0.74547994],\n",
       "       [0.17926288, 0.8207371 ],\n",
       "       [0.840448  , 0.15955196],\n",
       "       [0.27444297, 0.725557  ],\n",
       "       [0.6672943 , 0.33270568],\n",
       "       [0.17348534, 0.82651466],\n",
       "       [0.796654  , 0.203346  ]], dtype=float32)"
      ]
     },
     "execution_count": 41,
     "metadata": {},
     "output_type": "execute_result"
    }
   ],
   "source": [
    "xgb_probs"
   ]
  },
  {
   "cell_type": "code",
   "execution_count": 42,
   "id": "99164c08-4105-4b30-aa35-4d1d89c0f226",
   "metadata": {},
   "outputs": [],
   "source": [
    "winners = xgb_probs[:, 1] > threshold_80_precision"
   ]
  },
  {
   "cell_type": "code",
   "execution_count": 43,
   "id": "984eb8e4-2317-4ac4-a37f-258ebd8d00a5",
   "metadata": {},
   "outputs": [
    {
     "data": {
      "text/plain": [
       "array([False, False, False,  True,  True, False,  True, False,  True,\n",
       "       False])"
      ]
     },
     "execution_count": 43,
     "metadata": {},
     "output_type": "execute_result"
    }
   ],
   "source": [
    "winners"
   ]
  },
  {
   "cell_type": "markdown",
   "id": "370f5bdf-b52d-4148-bfdf-e0b2d43b15e3",
   "metadata": {},
   "source": [
    "# Elo Graph"
   ]
  },
  {
   "cell_type": "code",
   "execution_count": 44,
   "id": "a59580e7-8ae5-4ed7-b604-47b9b983afed",
   "metadata": {},
   "outputs": [
    {
     "data": {
      "image/png": "[encoded data removed]",
      "text/plain": [
       "<Figure size 1400x700 with 1 Axes>"
      ]
     },
     "metadata": {},
     "output_type": "display_data"
    }
   ],
   "source": [
    "import seaborn as sns\n",
    "import matplotlib.pyplot as plt\n",
    "import matplotlib.dates as mdates\n",
    "import pandas as pd\n",
    "\n",
    "plot_df = elo_df[(elo_df['team'] == 'BOS') | (elo_df['team'] == 'DET') |  (elo_df['team'] == 'GSW')]\n",
    "\n",
    "# Create the plot\n",
    "plt.figure(figsize=(14, 7))\n",
    "\n",
    "# Plot using seaborn\n",
    "sns.lineplot(x='date', y='elo_pre_game', hue='team', data=plot_df, marker=' ', markersize=5, legend='brief')\n",
    "\n",
    "# Improve x-axis labels\n",
    "plt.gca().xaxis.set_major_locator(mdates.MonthLocator(interval=12))  # Show a tick every 3 months\n",
    "#plt.gca().xaxis.set_major_formatter(mdates.DateFormatter('%Y'))  # Show the tick in 'Year' format\n",
    "plt.xticks(rotation=45, ha='right')  # Rotate the labels for better readability\n",
    "\n",
    "plt.title('Elo Rating Progression for NBA Teams')\n",
    "plt.xlabel('Date')\n",
    "plt.ylabel('Elo Rating')\n",
    "plt.tight_layout()\n",
    "\n",
    "# Show the plot\n",
    "plt.show()\n"
   ]
  },
  {
   "cell_type": "markdown",
   "id": "3a4018b2-f4e0-4230-8d80-421a547b1bbf",
   "metadata": {},
   "source": [
    "# Neural Network"
   ]
  },
  {
   "cell_type": "code",
   "execution_count": 45,
   "id": "7cfc84fa-b422-4f78-925b-1a8283c134eb",
   "metadata": {},
   "outputs": [],
   "source": [
    "rr_predictors = ['orb_max', 'ast%_max', '3p%_opp', 'ft%_opp', 'drb_opp', 'ts%_opp', 'orb%_opp', 'trb%_opp', '3pa_10_x', 'ast_10_x', 'ft_max_10_x',\n",
    "             'pts_max_10_x', 'orb%_max_10_x', 'drb%_max_10_x', 'blk%_opp_10_x', 'orb_max_opp_10_x', 'fg_10_y', '3pa_10_y', 'ft_max_10_y', \n",
    "             '3p%_opp_10_y', 'ft_opp_10_y', 'blk%_opp_10_y', 'ft_max_opp_10_y', '+/-_max_opp_10_y', 'total_opp_10_y', 'wr_against_team_opp_next',\n",
    "             'home_next', 'hot', 'cold', 'efg%_20_x',\n",
    "             '3pa_20_x', 'ast_20_x', 'ft_max_20_x', 'pts_max_20_x', 'orb%_max_20_x', 'drb%_max_20_x', 'blk%_opp_20_x','orb_max_opp_20_x',\n",
    "             'total_opp_20_x', 'fg_20_y', '3pa_20_y', 'ft_max_20_y', 'pts_max_20_y', 'ast%_max_20_y', '3p%_opp_20_y', 'ft_opp_20_y', 'blk%_opp_20_y',\n",
    "             'ft_max_opp_20_y', '+/-_max_opp_20_y', 'total_opp_20_y', '+/-_max_20_x',  '+/-_max_20_y', '+/-_max_opp_20_x', 'drtg_max_opp_20_x',\n",
    "             '+/-_max_10_x', '+/-_max_10_y', '+/-_max_opp_10_x', 'drtg_max_opp_10_x', 'efg%_10_x', 'elo_pre_game_x', 'elo_pre_game_y',\n",
    "             ]\n",
    "\n",
    "xgb_predictors = [\n",
    "       'elo_pre_game_y', 'elo_pre_game_x', '+/-_max_20_y', '+/-_max_opp_20_y',\n",
    "       '+/-_max_opp_20_x', '+/-_max_20_x', '+/-_max_opp_10_y', '+/-_max_10_y',\n",
    "       'home_next', '+/-_max_10_x', '+/-_max_opp_10_x', 'pts_max_20_y',\n",
    "       'efg%_20_x', 'total_opp_20_x', 'ast%_max_20_y', 'drtg_max_opp_20_x',\n",
    "       'efg%_10_x', 'ast%_max', 'blk%_opp_20_y', 'blk%_opp_20_x',\n",
    "       'blk%_opp_10_y', 'ft%_opp', '3p%_opp_10_y', '3p%_opp_20_y',\n",
    "       'pts_max_20_x', 'trb%_opp', 'drb%_max_10_x', 'blk%_opp_10_x',\n",
    "       'drtg_max_opp_10_x', 'total_opp_20_y', 'home_away_wr_x_wr_against_next_opp', 'wr_against_team_opp_next'\n",
    "]\n",
    "\n",
    "best_nn_predictors = ['wr_against_team_opp_next', 'home_away_wr_x_wr_against_next_opp', 'home_next',\n",
    "                 'elo_pre_game_x', 'elo_pre_game_y', 'elo_difference',\n",
    "                 'total_20_x', 'total_20_y',\n",
    "                 'fg%_20_x', 'fg%_20_y',\n",
    "                 '3p%_20_x', '3p%_20_y',\n",
    "                 'ft%_20_y', 'ft%_20_y',\n",
    "                 'trb_20_x', 'trb_20_y',\n",
    "                 'ast_20_x', 'ast_20_y',\n",
    "                 'tov_20_x', 'tov_20_y',\n",
    "                 '3p%_20_x', '3p%_20_y', \n",
    "                 'drtg_20_x', 'drtg_20_y']\n",
    "\n",
    "nn_predictors = ['wr_against_team_opp_next', 'home_away_wr_x_wr_against_next_opp', 'home_next',\n",
    "                 'elo_pre_game_x', 'elo_pre_game_y',\n",
    "                 'total_20_x', 'total_20_y',\n",
    "                 'fg%_20_x', 'fg%_20_y',\n",
    "                 '3p%_20_x', '3p%_20_y',\n",
    "                 'ft%_20_y', 'ft%_20_y',\n",
    "                 'trb_20_x', 'trb_20_y',\n",
    "                 'ast_20_x', 'ast_20_y',\n",
    "                 'tov_20_x', 'tov_20_y',\n",
    "                 'stl_20_x', 'stl_20_y',\n",
    "                 'blk_20_x', 'blk_20_y',\n",
    "                 'elo_difference'\n",
    "                 #'+/-_max_20_x', '+/-_max_20_y'\n",
    "                ]"
   ]
  },
  {
   "cell_type": "code",
   "execution_count": 46,
   "id": "f4a34542-6ddf-493a-8fac-e26d5778a4c8",
   "metadata": {},
   "outputs": [],
   "source": [
    "processed_df_ = processed_df[processed_df['season'] > 2016] # For elo ratings to be proper"
   ]
  },
  {
   "cell_type": "code",
   "execution_count": 47,
   "id": "f95bcbd5-aabd-479e-a240-f3393d348693",
   "metadata": {},
   "outputs": [],
   "source": [
    "removed_columns = list(processed_df_.columns[processed_df_.dtypes == 'object']) +  list(['date', 'season', 'won', 'team', 'team_opp'])\n",
    "selected_columns = processed_df_.columns[~processed_df_.columns.isin(removed_columns)]\n",
    "\n",
    "new_df = processed_df_[best_nn_predictors + ['target']]\n",
    "\n",
    "total_rows = new_df.shape[0]\n",
    "train_split = int(total_rows * 0.75)  # 70% of data for training\n",
    "val_split = train_split + int(total_rows * 0.15)  # Additional 15% for validation\n",
    "\n",
    "# Split the data\n",
    "train_data = new_df.iloc[:train_split]\n",
    "val_data = new_df.iloc[train_split:val_split]\n",
    "test_data = new_df.iloc[val_split:]\n",
    "\n",
    "# Extract features and target\n",
    "X_train, y_train = train_data.drop(['target'], axis=1), train_data['target']\n",
    "X_val, y_val = val_data.drop(['target'], axis=1), val_data['target']\n",
    "X_test, y_test = test_data.drop(['target'], axis=1), test_data['target']\n"
   ]
  },
  {
   "cell_type": "code",
   "execution_count": 58,
   "id": "39ad53ad-7da8-4556-abe0-b1c46715fd0a",
   "metadata": {},
   "outputs": [],
   "source": [
    "removed_columns = list(processed_df.columns[processed_df.dtypes == 'object']) +  list(['date', 'season', 'won', 'team', 'team_opp'])\n",
    "selected_columns = processed_df.columns[~processed_df.columns.isin(removed_columns)]\n",
    "\n",
    "new_df = processed_df[nn_predictors + ['target']]\n",
    "\n",
    "total_rows = new_df.shape[0]\n",
    "train_split = int(total_rows * 0.75)  # 70% of data for training\n",
    "val_split = train_split + int(total_rows * 0.15)  # Additional 15% for validation\n",
    "\n",
    "# Split the data\n",
    "train_data = new_df.iloc[:train_split]\n",
    "val_data = new_df.iloc[train_split:val_split]\n",
    "test_data = new_df.iloc[val_split:]\n",
    "\n",
    "# Extract features and target\n",
    "X_train, y_train = train_data.drop(['target'], axis=1), train_data['target']\n",
    "X_val, y_val = val_data.drop(['target'], axis=1), val_data['target']\n",
    "X_test, y_test = test_data.drop(['target'], axis=1), test_data['target']\n"
   ]
  },
  {
   "cell_type": "code",
   "execution_count": 48,
   "id": "c7356737-3c98-499f-a977-e758255875f8",
   "metadata": {},
   "outputs": [
    {
     "data": {
      "text/plain": [
       "15114"
      ]
     },
     "execution_count": 48,
     "metadata": {},
     "output_type": "execute_result"
    }
   ],
   "source": [
    "X_train.shape[0]"
   ]
  },
  {
   "cell_type": "code",
   "execution_count": 49,
   "id": "17f63ae0-64d5-491b-a17c-8c69b94c6d76",
   "metadata": {},
   "outputs": [
    {
     "data": {
      "text/plain": [
       "24"
      ]
     },
     "execution_count": 49,
     "metadata": {},
     "output_type": "execute_result"
    }
   ],
   "source": [
    "X_train.shape[1]"
   ]
  },
  {
   "cell_type": "code",
   "execution_count": 50,
   "id": "aefafac6-ac1c-4c9d-a70b-f3fda8bc52e5",
   "metadata": {},
   "outputs": [
    {
     "data": {
      "text/html": [
       "<pre style=\"white-space:pre;overflow-x:auto;line-height:normal;font-family:Menlo,'DejaVu Sans Mono',consolas,'Courier New',monospace\"><span style=\"font-weight: bold\">Model: \"sequential\"</span>\n",
       "</pre>\n"
      ],
      "text/plain": [
       "\u001b[1mModel: \"sequential\"\u001b[0m\n"
      ]
     },
     "metadata": {},
     "output_type": "display_data"
    },
    {
     "data": {
      "text/html": [
       "<pre style=\"white-space:pre;overflow-x:auto;line-height:normal;font-family:Menlo,'DejaVu Sans Mono',consolas,'Courier New',monospace\">┏━━━━━━━━━━━━━━━━━━━━━━━━━━━━━━━━━━━━━━┳━━━━━━━━━━━━━━━━━━━━━━━━━━━━━┳━━━━━━━━━━━━━━━━━┓\n",
       "┃<span style=\"font-weight: bold\"> Layer (type)                         </span>┃<span style=\"font-weight: bold\"> Output Shape                </span>┃<span style=\"font-weight: bold\">         Param # </span>┃\n",
       "┡━━━━━━━━━━━━━━━━━━━━━━━━━━━━━━━━━━━━━━╇━━━━━━━━━━━━━━━━━━━━━━━━━━━━━╇━━━━━━━━━━━━━━━━━┩\n",
       "│ dense (<span style=\"color: #0087ff; text-decoration-color: #0087ff\">Dense</span>)                        │ (<span style=\"color: #00d7ff; text-decoration-color: #00d7ff\">None</span>, <span style=\"color: #00af00; text-decoration-color: #00af00\">12</span>)                  │             <span style=\"color: #00af00; text-decoration-color: #00af00\">300</span> │\n",
       "├──────────────────────────────────────┼─────────────────────────────┼─────────────────┤\n",
       "│ dropout (<span style=\"color: #0087ff; text-decoration-color: #0087ff\">Dropout</span>)                    │ (<span style=\"color: #00d7ff; text-decoration-color: #00d7ff\">None</span>, <span style=\"color: #00af00; text-decoration-color: #00af00\">12</span>)                  │               <span style=\"color: #00af00; text-decoration-color: #00af00\">0</span> │\n",
       "├──────────────────────────────────────┼─────────────────────────────┼─────────────────┤\n",
       "│ dense_1 (<span style=\"color: #0087ff; text-decoration-color: #0087ff\">Dense</span>)                      │ (<span style=\"color: #00d7ff; text-decoration-color: #00d7ff\">None</span>, <span style=\"color: #00af00; text-decoration-color: #00af00\">6</span>)                   │              <span style=\"color: #00af00; text-decoration-color: #00af00\">78</span> │\n",
       "├──────────────────────────────────────┼─────────────────────────────┼─────────────────┤\n",
       "│ dropout_1 (<span style=\"color: #0087ff; text-decoration-color: #0087ff\">Dropout</span>)                  │ (<span style=\"color: #00d7ff; text-decoration-color: #00d7ff\">None</span>, <span style=\"color: #00af00; text-decoration-color: #00af00\">6</span>)                   │               <span style=\"color: #00af00; text-decoration-color: #00af00\">0</span> │\n",
       "├──────────────────────────────────────┼─────────────────────────────┼─────────────────┤\n",
       "│ dense_2 (<span style=\"color: #0087ff; text-decoration-color: #0087ff\">Dense</span>)                      │ (<span style=\"color: #00d7ff; text-decoration-color: #00d7ff\">None</span>, <span style=\"color: #00af00; text-decoration-color: #00af00\">1</span>)                   │               <span style=\"color: #00af00; text-decoration-color: #00af00\">7</span> │\n",
       "└──────────────────────────────────────┴─────────────────────────────┴─────────────────┘\n",
       "</pre>\n"
      ],
      "text/plain": [
       "┏━━━━━━━━━━━━━━━━━━━━━━━━━━━━━━━━━━━━━━┳━━━━━━━━━━━━━━━━━━━━━━━━━━━━━┳━━━━━━━━━━━━━━━━━┓\n",
       "┃\u001b[1m \u001b[0m\u001b[1mLayer (type)                        \u001b[0m\u001b[1m \u001b[0m┃\u001b[1m \u001b[0m\u001b[1mOutput Shape               \u001b[0m\u001b[1m \u001b[0m┃\u001b[1m \u001b[0m\u001b[1m        Param #\u001b[0m\u001b[1m \u001b[0m┃\n",
       "┡━━━━━━━━━━━━━━━━━━━━━━━━━━━━━━━━━━━━━━╇━━━━━━━━━━━━━━━━━━━━━━━━━━━━━╇━━━━━━━━━━━━━━━━━┩\n",
       "│ dense (\u001b[38;5;33mDense\u001b[0m)                        │ (\u001b[38;5;45mNone\u001b[0m, \u001b[38;5;34m12\u001b[0m)                  │             \u001b[38;5;34m300\u001b[0m │\n",
       "├──────────────────────────────────────┼─────────────────────────────┼─────────────────┤\n",
       "│ dropout (\u001b[38;5;33mDropout\u001b[0m)                    │ (\u001b[38;5;45mNone\u001b[0m, \u001b[38;5;34m12\u001b[0m)                  │               \u001b[38;5;34m0\u001b[0m │\n",
       "├──────────────────────────────────────┼─────────────────────────────┼─────────────────┤\n",
       "│ dense_1 (\u001b[38;5;33mDense\u001b[0m)                      │ (\u001b[38;5;45mNone\u001b[0m, \u001b[38;5;34m6\u001b[0m)                   │              \u001b[38;5;34m78\u001b[0m │\n",
       "├──────────────────────────────────────┼─────────────────────────────┼─────────────────┤\n",
       "│ dropout_1 (\u001b[38;5;33mDropout\u001b[0m)                  │ (\u001b[38;5;45mNone\u001b[0m, \u001b[38;5;34m6\u001b[0m)                   │               \u001b[38;5;34m0\u001b[0m │\n",
       "├──────────────────────────────────────┼─────────────────────────────┼─────────────────┤\n",
       "│ dense_2 (\u001b[38;5;33mDense\u001b[0m)                      │ (\u001b[38;5;45mNone\u001b[0m, \u001b[38;5;34m1\u001b[0m)                   │               \u001b[38;5;34m7\u001b[0m │\n",
       "└──────────────────────────────────────┴─────────────────────────────┴─────────────────┘\n"
      ]
     },
     "metadata": {},
     "output_type": "display_data"
    },
    {
     "data": {
      "text/html": [
       "<pre style=\"white-space:pre;overflow-x:auto;line-height:normal;font-family:Menlo,'DejaVu Sans Mono',consolas,'Courier New',monospace\"><span style=\"font-weight: bold\"> Total params: </span><span style=\"color: #00af00; text-decoration-color: #00af00\">385</span> (1.50 KB)\n",
       "</pre>\n"
      ],
      "text/plain": [
       "\u001b[1m Total params: \u001b[0m\u001b[38;5;34m385\u001b[0m (1.50 KB)\n"
      ]
     },
     "metadata": {},
     "output_type": "display_data"
    },
    {
     "data": {
      "text/html": [
       "<pre style=\"white-space:pre;overflow-x:auto;line-height:normal;font-family:Menlo,'DejaVu Sans Mono',consolas,'Courier New',monospace\"><span style=\"font-weight: bold\"> Trainable params: </span><span style=\"color: #00af00; text-decoration-color: #00af00\">385</span> (1.50 KB)\n",
       "</pre>\n"
      ],
      "text/plain": [
       "\u001b[1m Trainable params: \u001b[0m\u001b[38;5;34m385\u001b[0m (1.50 KB)\n"
      ]
     },
     "metadata": {},
     "output_type": "display_data"
    },
    {
     "data": {
      "text/html": [
       "<pre style=\"white-space:pre;overflow-x:auto;line-height:normal;font-family:Menlo,'DejaVu Sans Mono',consolas,'Courier New',monospace\"><span style=\"font-weight: bold\"> Non-trainable params: </span><span style=\"color: #00af00; text-decoration-color: #00af00\">0</span> (0.00 B)\n",
       "</pre>\n"
      ],
      "text/plain": [
       "\u001b[1m Non-trainable params: \u001b[0m\u001b[38;5;34m0\u001b[0m (0.00 B)\n"
      ]
     },
     "metadata": {},
     "output_type": "display_data"
    }
   ],
   "source": [
    "from tensorflow.keras.regularizers import l2\n",
    "model = Sequential([\n",
    "    Input(shape=(X_train.shape[1],)),  # Use the Input layer to specify the input shape\n",
    "    Dense(12, activation='tanh', kernel_regularizer = l2(0.02876)),\n",
    "    Dropout(0.2),\n",
    "    Dense(6, activation='tanh', kernel_regularizer = l2(0.02875)),\n",
    "    Dropout(0.08),\n",
    "    Dense(1, activation='sigmoid')\n",
    "])\n",
    "\n",
    "optimizer = tensorflow.keras.optimizers.Adam(learning_rate=0.001)\n",
    "model.compile(optimizer=optimizer, loss='binary_crossentropy', metrics=['accuracy'], )\n",
    "\n",
    "model.summary()"
   ]
  },
  {
   "cell_type": "code",
   "execution_count": 51,
   "id": "a0ed4824-12ef-460f-b027-c32b94291294",
   "metadata": {},
   "outputs": [
    {
     "name": "stdout",
     "output_type": "stream",
     "text": [
      "Epoch 1/100\n",
      "\u001b[1m945/945\u001b[0m \u001b[32m━━━━━━━━━━━━━━━━━━━━\u001b[0m\u001b[37m\u001b[0m \u001b[1m1s\u001b[0m 708us/step - accuracy: 0.5275 - loss: 1.0499 - val_accuracy: 0.6059 - val_loss: 0.7004\n",
      "Epoch 2/100\n",
      "\u001b[1m945/945\u001b[0m \u001b[32m━━━━━━━━━━━━━━━━━━━━\u001b[0m\u001b[37m\u001b[0m \u001b[1m1s\u001b[0m 574us/step - accuracy: 0.6249 - loss: 0.6907 - val_accuracy: 0.5897 - val_loss: 0.6932\n",
      "Epoch 3/100\n",
      "\u001b[1m945/945\u001b[0m \u001b[32m━━━━━━━━━━━━━━━━━━━━\u001b[0m\u001b[37m\u001b[0m \u001b[1m1s\u001b[0m 539us/step - accuracy: 0.6243 - loss: 0.6819 - val_accuracy: 0.6056 - val_loss: 0.6877\n",
      "Epoch 4/100\n",
      "\u001b[1m945/945\u001b[0m \u001b[32m━━━━━━━━━━━━━━━━━━━━\u001b[0m\u001b[37m\u001b[0m \u001b[1m1s\u001b[0m 555us/step - accuracy: 0.6364 - loss: 0.6733 - val_accuracy: 0.6135 - val_loss: 0.6828\n",
      "Epoch 5/100\n",
      "\u001b[1m945/945\u001b[0m \u001b[32m━━━━━━━━━━━━━━━━━━━━\u001b[0m\u001b[37m\u001b[0m \u001b[1m1s\u001b[0m 546us/step - accuracy: 0.6396 - loss: 0.6695 - val_accuracy: 0.6244 - val_loss: 0.6778\n",
      "Epoch 6/100\n",
      "\u001b[1m945/945\u001b[0m \u001b[32m━━━━━━━━━━━━━━━━━━━━\u001b[0m\u001b[37m\u001b[0m \u001b[1m1s\u001b[0m 538us/step - accuracy: 0.6441 - loss: 0.6633 - val_accuracy: 0.6128 - val_loss: 0.6775\n",
      "Epoch 7/100\n",
      "\u001b[1m945/945\u001b[0m \u001b[32m━━━━━━━━━━━━━━━━━━━━\u001b[0m\u001b[37m\u001b[0m \u001b[1m1s\u001b[0m 528us/step - accuracy: 0.6380 - loss: 0.6633 - val_accuracy: 0.6211 - val_loss: 0.6744\n",
      "Epoch 8/100\n",
      "\u001b[1m945/945\u001b[0m \u001b[32m━━━━━━━━━━━━━━━━━━━━\u001b[0m\u001b[37m\u001b[0m \u001b[1m1s\u001b[0m 558us/step - accuracy: 0.6369 - loss: 0.6625 - val_accuracy: 0.6254 - val_loss: 0.6725\n",
      "Epoch 9/100\n",
      "\u001b[1m945/945\u001b[0m \u001b[32m━━━━━━━━━━━━━━━━━━━━\u001b[0m\u001b[37m\u001b[0m \u001b[1m1s\u001b[0m 546us/step - accuracy: 0.6384 - loss: 0.6593 - val_accuracy: 0.5867 - val_loss: 0.6869\n",
      "Epoch 10/100\n",
      "\u001b[1m945/945\u001b[0m \u001b[32m━━━━━━━━━━━━━━━━━━━━\u001b[0m\u001b[37m\u001b[0m \u001b[1m1s\u001b[0m 615us/step - accuracy: 0.6329 - loss: 0.6582 - val_accuracy: 0.6231 - val_loss: 0.6698\n",
      "Epoch 11/100\n",
      "\u001b[1m945/945\u001b[0m \u001b[32m━━━━━━━━━━━━━━━━━━━━\u001b[0m\u001b[37m\u001b[0m \u001b[1m1s\u001b[0m 531us/step - accuracy: 0.6293 - loss: 0.6597 - val_accuracy: 0.6188 - val_loss: 0.6699\n",
      "Epoch 12/100\n",
      "\u001b[1m945/945\u001b[0m \u001b[32m━━━━━━━━━━━━━━━━━━━━\u001b[0m\u001b[37m\u001b[0m \u001b[1m1s\u001b[0m 555us/step - accuracy: 0.6381 - loss: 0.6564 - val_accuracy: 0.6317 - val_loss: 0.6667\n",
      "Epoch 13/100\n",
      "\u001b[1m945/945\u001b[0m \u001b[32m━━━━━━━━━━━━━━━━━━━━\u001b[0m\u001b[37m\u001b[0m \u001b[1m1s\u001b[0m 544us/step - accuracy: 0.6396 - loss: 0.6539 - val_accuracy: 0.6300 - val_loss: 0.6660\n",
      "Epoch 14/100\n",
      "\u001b[1m945/945\u001b[0m \u001b[32m━━━━━━━━━━━━━━━━━━━━\u001b[0m\u001b[37m\u001b[0m \u001b[1m1s\u001b[0m 538us/step - accuracy: 0.6369 - loss: 0.6543 - val_accuracy: 0.6009 - val_loss: 0.6734\n",
      "Epoch 15/100\n",
      "\u001b[1m945/945\u001b[0m \u001b[32m━━━━━━━━━━━━━━━━━━━━\u001b[0m\u001b[37m\u001b[0m \u001b[1m1s\u001b[0m 562us/step - accuracy: 0.6376 - loss: 0.6517 - val_accuracy: 0.6072 - val_loss: 0.6694\n",
      "Epoch 16/100\n",
      "\u001b[1m945/945\u001b[0m \u001b[32m━━━━━━━━━━━━━━━━━━━━\u001b[0m\u001b[37m\u001b[0m \u001b[1m1s\u001b[0m 526us/step - accuracy: 0.6425 - loss: 0.6530 - val_accuracy: 0.6327 - val_loss: 0.6640\n",
      "Epoch 17/100\n",
      "\u001b[1m945/945\u001b[0m \u001b[32m━━━━━━━━━━━━━━━━━━━━\u001b[0m\u001b[37m\u001b[0m \u001b[1m1s\u001b[0m 560us/step - accuracy: 0.6379 - loss: 0.6548 - val_accuracy: 0.6277 - val_loss: 0.6648\n",
      "Epoch 18/100\n",
      "\u001b[1m945/945\u001b[0m \u001b[32m━━━━━━━━━━━━━━━━━━━━\u001b[0m\u001b[37m\u001b[0m \u001b[1m1s\u001b[0m 527us/step - accuracy: 0.6376 - loss: 0.6493 - val_accuracy: 0.6066 - val_loss: 0.6688\n",
      "Epoch 19/100\n",
      "\u001b[1m945/945\u001b[0m \u001b[32m━━━━━━━━━━━━━━━━━━━━\u001b[0m\u001b[37m\u001b[0m \u001b[1m1s\u001b[0m 561us/step - accuracy: 0.6377 - loss: 0.6521 - val_accuracy: 0.6320 - val_loss: 0.6627\n",
      "Epoch 20/100\n",
      "\u001b[1m945/945\u001b[0m \u001b[32m━━━━━━━━━━━━━━━━━━━━\u001b[0m\u001b[37m\u001b[0m \u001b[1m1s\u001b[0m 562us/step - accuracy: 0.6335 - loss: 0.6516 - val_accuracy: 0.6178 - val_loss: 0.6655\n",
      "Epoch 21/100\n",
      "\u001b[1m945/945\u001b[0m \u001b[32m━━━━━━━━━━━━━━━━━━━━\u001b[0m\u001b[37m\u001b[0m \u001b[1m1s\u001b[0m 564us/step - accuracy: 0.6417 - loss: 0.6493 - val_accuracy: 0.6317 - val_loss: 0.6623\n",
      "Epoch 22/100\n",
      "\u001b[1m945/945\u001b[0m \u001b[32m━━━━━━━━━━━━━━━━━━━━\u001b[0m\u001b[37m\u001b[0m \u001b[1m1s\u001b[0m 535us/step - accuracy: 0.6329 - loss: 0.6516 - val_accuracy: 0.6092 - val_loss: 0.6660\n",
      "Epoch 23/100\n",
      "\u001b[1m945/945\u001b[0m \u001b[32m━━━━━━━━━━━━━━━━━━━━\u001b[0m\u001b[37m\u001b[0m \u001b[1m1s\u001b[0m 538us/step - accuracy: 0.6346 - loss: 0.6545 - val_accuracy: 0.6244 - val_loss: 0.6626\n",
      "Epoch 24/100\n",
      "\u001b[1m945/945\u001b[0m \u001b[32m━━━━━━━━━━━━━━━━━━━━\u001b[0m\u001b[37m\u001b[0m \u001b[1m1s\u001b[0m 536us/step - accuracy: 0.6349 - loss: 0.6509 - val_accuracy: 0.6297 - val_loss: 0.6620\n",
      "Epoch 25/100\n",
      "\u001b[1m945/945\u001b[0m \u001b[32m━━━━━━━━━━━━━━━━━━━━\u001b[0m\u001b[37m\u001b[0m \u001b[1m1s\u001b[0m 545us/step - accuracy: 0.6449 - loss: 0.6495 - val_accuracy: 0.5930 - val_loss: 0.6760\n",
      "Epoch 26/100\n",
      "\u001b[1m945/945\u001b[0m \u001b[32m━━━━━━━━━━━━━━━━━━━━\u001b[0m\u001b[37m\u001b[0m \u001b[1m1s\u001b[0m 553us/step - accuracy: 0.6415 - loss: 0.6473 - val_accuracy: 0.6248 - val_loss: 0.6630\n",
      "Epoch 27/100\n",
      "\u001b[1m945/945\u001b[0m \u001b[32m━━━━━━━━━━━━━━━━━━━━\u001b[0m\u001b[37m\u001b[0m \u001b[1m1s\u001b[0m 530us/step - accuracy: 0.6363 - loss: 0.6524 - val_accuracy: 0.6069 - val_loss: 0.6675\n",
      "Epoch 28/100\n",
      "\u001b[1m945/945\u001b[0m \u001b[32m━━━━━━━━━━━━━━━━━━━━\u001b[0m\u001b[37m\u001b[0m \u001b[1m1s\u001b[0m 533us/step - accuracy: 0.6398 - loss: 0.6470 - val_accuracy: 0.6234 - val_loss: 0.6623\n",
      "Epoch 29/100\n",
      "\u001b[1m945/945\u001b[0m \u001b[32m━━━━━━━━━━━━━━━━━━━━\u001b[0m\u001b[37m\u001b[0m \u001b[1m1s\u001b[0m 623us/step - accuracy: 0.6351 - loss: 0.6496 - val_accuracy: 0.6185 - val_loss: 0.6659\n",
      "Epoch 30/100\n",
      "\u001b[1m945/945\u001b[0m \u001b[32m━━━━━━━━━━━━━━━━━━━━\u001b[0m\u001b[37m\u001b[0m \u001b[1m1s\u001b[0m 541us/step - accuracy: 0.6385 - loss: 0.6482 - val_accuracy: 0.6075 - val_loss: 0.6667\n",
      "Epoch 31/100\n",
      "\u001b[1m945/945\u001b[0m \u001b[32m━━━━━━━━━━━━━━━━━━━━\u001b[0m\u001b[37m\u001b[0m \u001b[1m1s\u001b[0m 549us/step - accuracy: 0.6463 - loss: 0.6459 - val_accuracy: 0.6102 - val_loss: 0.6652\n",
      "Epoch 32/100\n",
      "\u001b[1m945/945\u001b[0m \u001b[32m━━━━━━━━━━━━━━━━━━━━\u001b[0m\u001b[37m\u001b[0m \u001b[1m1s\u001b[0m 544us/step - accuracy: 0.6419 - loss: 0.6469 - val_accuracy: 0.6244 - val_loss: 0.6613\n",
      "Epoch 33/100\n",
      "\u001b[1m945/945\u001b[0m \u001b[32m━━━━━━━━━━━━━━━━━━━━\u001b[0m\u001b[37m\u001b[0m \u001b[1m1s\u001b[0m 545us/step - accuracy: 0.6393 - loss: 0.6470 - val_accuracy: 0.6284 - val_loss: 0.6603\n",
      "Epoch 34/100\n",
      "\u001b[1m945/945\u001b[0m \u001b[32m━━━━━━━━━━━━━━━━━━━━\u001b[0m\u001b[37m\u001b[0m \u001b[1m1s\u001b[0m 542us/step - accuracy: 0.6438 - loss: 0.6474 - val_accuracy: 0.6023 - val_loss: 0.6706\n",
      "Epoch 35/100\n",
      "\u001b[1m945/945\u001b[0m \u001b[32m━━━━━━━━━━━━━━━━━━━━\u001b[0m\u001b[37m\u001b[0m \u001b[1m1s\u001b[0m 542us/step - accuracy: 0.6321 - loss: 0.6516 - val_accuracy: 0.6142 - val_loss: 0.6630\n",
      "Epoch 36/100\n",
      "\u001b[1m945/945\u001b[0m \u001b[32m━━━━━━━━━━━━━━━━━━━━\u001b[0m\u001b[37m\u001b[0m \u001b[1m1s\u001b[0m 547us/step - accuracy: 0.6374 - loss: 0.6477 - val_accuracy: 0.6314 - val_loss: 0.6595\n",
      "Epoch 37/100\n",
      "\u001b[1m945/945\u001b[0m \u001b[32m━━━━━━━━━━━━━━━━━━━━\u001b[0m\u001b[37m\u001b[0m \u001b[1m1s\u001b[0m 554us/step - accuracy: 0.6301 - loss: 0.6548 - val_accuracy: 0.6079 - val_loss: 0.6660\n",
      "Epoch 38/100\n",
      "\u001b[1m945/945\u001b[0m \u001b[32m━━━━━━━━━━━━━━━━━━━━\u001b[0m\u001b[37m\u001b[0m \u001b[1m1s\u001b[0m 556us/step - accuracy: 0.6396 - loss: 0.6475 - val_accuracy: 0.6277 - val_loss: 0.6604\n",
      "Epoch 39/100\n",
      "\u001b[1m945/945\u001b[0m \u001b[32m━━━━━━━━━━━━━━━━━━━━\u001b[0m\u001b[37m\u001b[0m \u001b[1m1s\u001b[0m 554us/step - accuracy: 0.6419 - loss: 0.6493 - val_accuracy: 0.6069 - val_loss: 0.6679\n",
      "Epoch 40/100\n",
      "\u001b[1m945/945\u001b[0m \u001b[32m━━━━━━━━━━━━━━━━━━━━\u001b[0m\u001b[37m\u001b[0m \u001b[1m1s\u001b[0m 542us/step - accuracy: 0.6351 - loss: 0.6496 - val_accuracy: 0.6112 - val_loss: 0.6640\n",
      "Epoch 41/100\n",
      "\u001b[1m945/945\u001b[0m \u001b[32m━━━━━━━━━━━━━━━━━━━━\u001b[0m\u001b[37m\u001b[0m \u001b[1m1s\u001b[0m 564us/step - accuracy: 0.6371 - loss: 0.6476 - val_accuracy: 0.6284 - val_loss: 0.6593\n",
      "Epoch 42/100\n",
      "\u001b[1m945/945\u001b[0m \u001b[32m━━━━━━━━━━━━━━━━━━━━\u001b[0m\u001b[37m\u001b[0m \u001b[1m1s\u001b[0m 552us/step - accuracy: 0.6364 - loss: 0.6497 - val_accuracy: 0.6042 - val_loss: 0.6693\n",
      "Epoch 43/100\n",
      "\u001b[1m945/945\u001b[0m \u001b[32m━━━━━━━━━━━━━━━━━━━━\u001b[0m\u001b[37m\u001b[0m \u001b[1m1s\u001b[0m 554us/step - accuracy: 0.6441 - loss: 0.6468 - val_accuracy: 0.6079 - val_loss: 0.6647\n",
      "Epoch 44/100\n",
      "\u001b[1m945/945\u001b[0m \u001b[32m━━━━━━━━━━━━━━━━━━━━\u001b[0m\u001b[37m\u001b[0m \u001b[1m1s\u001b[0m 544us/step - accuracy: 0.6326 - loss: 0.6500 - val_accuracy: 0.6277 - val_loss: 0.6597\n",
      "Epoch 45/100\n",
      "\u001b[1m945/945\u001b[0m \u001b[32m━━━━━━━━━━━━━━━━━━━━\u001b[0m\u001b[37m\u001b[0m \u001b[1m1s\u001b[0m 544us/step - accuracy: 0.6358 - loss: 0.6492 - val_accuracy: 0.6267 - val_loss: 0.6595\n",
      "Epoch 46/100\n",
      "\u001b[1m945/945\u001b[0m \u001b[32m━━━━━━━━━━━━━━━━━━━━\u001b[0m\u001b[37m\u001b[0m \u001b[1m1s\u001b[0m 559us/step - accuracy: 0.6455 - loss: 0.6434 - val_accuracy: 0.6218 - val_loss: 0.6610\n",
      "Epoch 47/100\n",
      "\u001b[1m945/945\u001b[0m \u001b[32m━━━━━━━━━━━━━━━━━━━━\u001b[0m\u001b[37m\u001b[0m \u001b[1m1s\u001b[0m 563us/step - accuracy: 0.6419 - loss: 0.6475 - val_accuracy: 0.6324 - val_loss: 0.6587\n",
      "Epoch 48/100\n",
      "\u001b[1m945/945\u001b[0m \u001b[32m━━━━━━━━━━━━━━━━━━━━\u001b[0m\u001b[37m\u001b[0m \u001b[1m1s\u001b[0m 582us/step - accuracy: 0.6387 - loss: 0.6490 - val_accuracy: 0.5983 - val_loss: 0.6727\n",
      "Epoch 49/100\n",
      "\u001b[1m945/945\u001b[0m \u001b[32m━━━━━━━━━━━━━━━━━━━━\u001b[0m\u001b[37m\u001b[0m \u001b[1m1s\u001b[0m 584us/step - accuracy: 0.6367 - loss: 0.6471 - val_accuracy: 0.6238 - val_loss: 0.6608\n",
      "Epoch 50/100\n",
      "\u001b[1m945/945\u001b[0m \u001b[32m━━━━━━━━━━━━━━━━━━━━\u001b[0m\u001b[37m\u001b[0m \u001b[1m1s\u001b[0m 636us/step - accuracy: 0.6421 - loss: 0.6474 - val_accuracy: 0.6062 - val_loss: 0.6656\n",
      "Epoch 51/100\n",
      "\u001b[1m945/945\u001b[0m \u001b[32m━━━━━━━━━━━━━━━━━━━━\u001b[0m\u001b[37m\u001b[0m \u001b[1m1s\u001b[0m 554us/step - accuracy: 0.6334 - loss: 0.6500 - val_accuracy: 0.6188 - val_loss: 0.6607\n",
      "Epoch 52/100\n",
      "\u001b[1m945/945\u001b[0m \u001b[32m━━━━━━━━━━━━━━━━━━━━\u001b[0m\u001b[37m\u001b[0m \u001b[1m1s\u001b[0m 549us/step - accuracy: 0.6437 - loss: 0.6468 - val_accuracy: 0.5473 - val_loss: 0.7136\n",
      "Epoch 53/100\n",
      "\u001b[1m945/945\u001b[0m \u001b[32m━━━━━━━━━━━━━━━━━━━━\u001b[0m\u001b[37m\u001b[0m \u001b[1m1s\u001b[0m 545us/step - accuracy: 0.6398 - loss: 0.6488 - val_accuracy: 0.6181 - val_loss: 0.6610\n",
      "Epoch 54/100\n",
      "\u001b[1m945/945\u001b[0m \u001b[32m━━━━━━━━━━━━━━━━━━━━\u001b[0m\u001b[37m\u001b[0m \u001b[1m1s\u001b[0m 553us/step - accuracy: 0.6372 - loss: 0.6470 - val_accuracy: 0.5758 - val_loss: 0.6859\n",
      "Epoch 55/100\n",
      "\u001b[1m945/945\u001b[0m \u001b[32m━━━━━━━━━━━━━━━━━━━━\u001b[0m\u001b[37m\u001b[0m \u001b[1m1s\u001b[0m 555us/step - accuracy: 0.6353 - loss: 0.6494 - val_accuracy: 0.6310 - val_loss: 0.6583\n",
      "Epoch 56/100\n",
      "\u001b[1m945/945\u001b[0m \u001b[32m━━━━━━━━━━━━━━━━━━━━\u001b[0m\u001b[37m\u001b[0m \u001b[1m1s\u001b[0m 556us/step - accuracy: 0.6407 - loss: 0.6475 - val_accuracy: 0.6138 - val_loss: 0.6622\n",
      "Epoch 57/100\n",
      "\u001b[1m945/945\u001b[0m \u001b[32m━━━━━━━━━━━━━━━━━━━━\u001b[0m\u001b[37m\u001b[0m \u001b[1m1s\u001b[0m 561us/step - accuracy: 0.6415 - loss: 0.6454 - val_accuracy: 0.6307 - val_loss: 0.6587\n",
      "Epoch 58/100\n",
      "\u001b[1m945/945\u001b[0m \u001b[32m━━━━━━━━━━━━━━━━━━━━\u001b[0m\u001b[37m\u001b[0m \u001b[1m1s\u001b[0m 582us/step - accuracy: 0.6457 - loss: 0.6474 - val_accuracy: 0.6281 - val_loss: 0.6586\n",
      "Epoch 59/100\n",
      "\u001b[1m945/945\u001b[0m \u001b[32m━━━━━━━━━━━━━━━━━━━━\u001b[0m\u001b[37m\u001b[0m \u001b[1m1s\u001b[0m 565us/step - accuracy: 0.6385 - loss: 0.6474 - val_accuracy: 0.5976 - val_loss: 0.6746\n",
      "Epoch 60/100\n",
      "\u001b[1m945/945\u001b[0m \u001b[32m━━━━━━━━━━━━━━━━━━━━\u001b[0m\u001b[37m\u001b[0m \u001b[1m1s\u001b[0m 543us/step - accuracy: 0.6373 - loss: 0.6481 - val_accuracy: 0.6317 - val_loss: 0.6590\n",
      "Epoch 61/100\n",
      "\u001b[1m945/945\u001b[0m \u001b[32m━━━━━━━━━━━━━━━━━━━━\u001b[0m\u001b[37m\u001b[0m \u001b[1m1s\u001b[0m 556us/step - accuracy: 0.6371 - loss: 0.6494 - val_accuracy: 0.6297 - val_loss: 0.6599\n",
      "Epoch 62/100\n",
      "\u001b[1m945/945\u001b[0m \u001b[32m━━━━━━━━━━━━━━━━━━━━\u001b[0m\u001b[37m\u001b[0m \u001b[1m1s\u001b[0m 539us/step - accuracy: 0.6414 - loss: 0.6461 - val_accuracy: 0.6271 - val_loss: 0.6593\n",
      "Epoch 63/100\n",
      "\u001b[1m945/945\u001b[0m \u001b[32m━━━━━━━━━━━━━━━━━━━━\u001b[0m\u001b[37m\u001b[0m \u001b[1m1s\u001b[0m 564us/step - accuracy: 0.6327 - loss: 0.6503 - val_accuracy: 0.6287 - val_loss: 0.6587\n",
      "Epoch 64/100\n",
      "\u001b[1m945/945\u001b[0m \u001b[32m━━━━━━━━━━━━━━━━━━━━\u001b[0m\u001b[37m\u001b[0m \u001b[1m1s\u001b[0m 560us/step - accuracy: 0.6472 - loss: 0.6430 - val_accuracy: 0.6109 - val_loss: 0.6647\n",
      "Epoch 65/100\n",
      "\u001b[1m945/945\u001b[0m \u001b[32m━━━━━━━━━━━━━━━━━━━━\u001b[0m\u001b[37m\u001b[0m \u001b[1m1s\u001b[0m 547us/step - accuracy: 0.6417 - loss: 0.6423 - val_accuracy: 0.6257 - val_loss: 0.6581\n",
      "Epoch 66/100\n",
      "\u001b[1m945/945\u001b[0m \u001b[32m━━━━━━━━━━━━━━━━━━━━\u001b[0m\u001b[37m\u001b[0m \u001b[1m1s\u001b[0m 628us/step - accuracy: 0.6405 - loss: 0.6474 - val_accuracy: 0.6195 - val_loss: 0.6604\n",
      "Epoch 67/100\n",
      "\u001b[1m945/945\u001b[0m \u001b[32m━━━━━━━━━━━━━━━━━━━━\u001b[0m\u001b[37m\u001b[0m \u001b[1m1s\u001b[0m 561us/step - accuracy: 0.6345 - loss: 0.6471 - val_accuracy: 0.6211 - val_loss: 0.6606\n",
      "Epoch 68/100\n",
      "\u001b[1m945/945\u001b[0m \u001b[32m━━━━━━━━━━━━━━━━━━━━\u001b[0m\u001b[37m\u001b[0m \u001b[1m1s\u001b[0m 548us/step - accuracy: 0.6457 - loss: 0.6455 - val_accuracy: 0.6300 - val_loss: 0.6595\n",
      "Epoch 69/100\n",
      "\u001b[1m945/945\u001b[0m \u001b[32m━━━━━━━━━━━━━━━━━━━━\u001b[0m\u001b[37m\u001b[0m \u001b[1m1s\u001b[0m 559us/step - accuracy: 0.6434 - loss: 0.6460 - val_accuracy: 0.6109 - val_loss: 0.6633\n",
      "Epoch 70/100\n",
      "\u001b[1m945/945\u001b[0m \u001b[32m━━━━━━━━━━━━━━━━━━━━\u001b[0m\u001b[37m\u001b[0m \u001b[1m1s\u001b[0m 562us/step - accuracy: 0.6366 - loss: 0.6470 - val_accuracy: 0.6089 - val_loss: 0.6653\n",
      "Epoch 71/100\n",
      "\u001b[1m945/945\u001b[0m \u001b[32m━━━━━━━━━━━━━━━━━━━━\u001b[0m\u001b[37m\u001b[0m \u001b[1m1s\u001b[0m 543us/step - accuracy: 0.6460 - loss: 0.6386 - val_accuracy: 0.6320 - val_loss: 0.6574\n",
      "Epoch 72/100\n",
      "\u001b[1m945/945\u001b[0m \u001b[32m━━━━━━━━━━━━━━━━━━━━\u001b[0m\u001b[37m\u001b[0m \u001b[1m1s\u001b[0m 558us/step - accuracy: 0.6396 - loss: 0.6453 - val_accuracy: 0.6251 - val_loss: 0.6581\n",
      "Epoch 73/100\n",
      "\u001b[1m945/945\u001b[0m \u001b[32m━━━━━━━━━━━━━━━━━━━━\u001b[0m\u001b[37m\u001b[0m \u001b[1m1s\u001b[0m 557us/step - accuracy: 0.6314 - loss: 0.6516 - val_accuracy: 0.6254 - val_loss: 0.6590\n",
      "Epoch 74/100\n",
      "\u001b[1m945/945\u001b[0m \u001b[32m━━━━━━━━━━━━━━━━━━━━\u001b[0m\u001b[37m\u001b[0m \u001b[1m1s\u001b[0m 555us/step - accuracy: 0.6328 - loss: 0.6492 - val_accuracy: 0.6092 - val_loss: 0.6657\n",
      "Epoch 75/100\n",
      "\u001b[1m945/945\u001b[0m \u001b[32m━━━━━━━━━━━━━━━━━━━━\u001b[0m\u001b[37m\u001b[0m \u001b[1m1s\u001b[0m 578us/step - accuracy: 0.6381 - loss: 0.6440 - val_accuracy: 0.6052 - val_loss: 0.6670\n",
      "Epoch 76/100\n",
      "\u001b[1m945/945\u001b[0m \u001b[32m━━━━━━━━━━━━━━━━━━━━\u001b[0m\u001b[37m\u001b[0m \u001b[1m1s\u001b[0m 576us/step - accuracy: 0.6354 - loss: 0.6494 - val_accuracy: 0.6062 - val_loss: 0.6634\n",
      "Epoch 77/100\n",
      "\u001b[1m945/945\u001b[0m \u001b[32m━━━━━━━━━━━━━━━━━━━━\u001b[0m\u001b[37m\u001b[0m \u001b[1m1s\u001b[0m 579us/step - accuracy: 0.6373 - loss: 0.6504 - val_accuracy: 0.6013 - val_loss: 0.6682\n",
      "Epoch 78/100\n",
      "\u001b[1m945/945\u001b[0m \u001b[32m━━━━━━━━━━━━━━━━━━━━\u001b[0m\u001b[37m\u001b[0m \u001b[1m1s\u001b[0m 579us/step - accuracy: 0.6285 - loss: 0.6505 - val_accuracy: 0.6310 - val_loss: 0.6578\n",
      "Epoch 79/100\n",
      "\u001b[1m945/945\u001b[0m \u001b[32m━━━━━━━━━━━━━━━━━━━━\u001b[0m\u001b[37m\u001b[0m \u001b[1m1s\u001b[0m 663us/step - accuracy: 0.6471 - loss: 0.6456 - val_accuracy: 0.6135 - val_loss: 0.6625\n",
      "Epoch 80/100\n",
      "\u001b[1m945/945\u001b[0m \u001b[32m━━━━━━━━━━━━━━━━━━━━\u001b[0m\u001b[37m\u001b[0m \u001b[1m1s\u001b[0m 572us/step - accuracy: 0.6369 - loss: 0.6447 - val_accuracy: 0.6211 - val_loss: 0.6595\n",
      "Epoch 81/100\n",
      "\u001b[1m945/945\u001b[0m \u001b[32m━━━━━━━━━━━━━━━━━━━━\u001b[0m\u001b[37m\u001b[0m \u001b[1m1s\u001b[0m 550us/step - accuracy: 0.6342 - loss: 0.6496 - val_accuracy: 0.6168 - val_loss: 0.6607\n",
      "Epoch 82/100\n",
      "\u001b[1m945/945\u001b[0m \u001b[32m━━━━━━━━━━━━━━━━━━━━\u001b[0m\u001b[37m\u001b[0m \u001b[1m1s\u001b[0m 579us/step - accuracy: 0.6342 - loss: 0.6478 - val_accuracy: 0.6353 - val_loss: 0.6575\n",
      "Epoch 83/100\n",
      "\u001b[1m945/945\u001b[0m \u001b[32m━━━━━━━━━━━━━━━━━━━━\u001b[0m\u001b[37m\u001b[0m \u001b[1m1s\u001b[0m 580us/step - accuracy: 0.6343 - loss: 0.6467 - val_accuracy: 0.6277 - val_loss: 0.6586\n",
      "Epoch 84/100\n",
      "\u001b[1m945/945\u001b[0m \u001b[32m━━━━━━━━━━━━━━━━━━━━\u001b[0m\u001b[37m\u001b[0m \u001b[1m1s\u001b[0m 560us/step - accuracy: 0.6403 - loss: 0.6472 - val_accuracy: 0.5635 - val_loss: 0.6878\n",
      "Epoch 85/100\n",
      "\u001b[1m945/945\u001b[0m \u001b[32m━━━━━━━━━━━━━━━━━━━━\u001b[0m\u001b[37m\u001b[0m \u001b[1m1s\u001b[0m 563us/step - accuracy: 0.6364 - loss: 0.6481 - val_accuracy: 0.6257 - val_loss: 0.6582\n",
      "Epoch 86/100\n",
      "\u001b[1m945/945\u001b[0m \u001b[32m━━━━━━━━━━━━━━━━━━━━\u001b[0m\u001b[37m\u001b[0m \u001b[1m1s\u001b[0m 564us/step - accuracy: 0.6323 - loss: 0.6468 - val_accuracy: 0.6039 - val_loss: 0.6701\n",
      "Epoch 87/100\n",
      "\u001b[1m945/945\u001b[0m \u001b[32m━━━━━━━━━━━━━━━━━━━━\u001b[0m\u001b[37m\u001b[0m \u001b[1m1s\u001b[0m 554us/step - accuracy: 0.6423 - loss: 0.6453 - val_accuracy: 0.6297 - val_loss: 0.6574\n",
      "Epoch 88/100\n",
      "\u001b[1m945/945\u001b[0m \u001b[32m━━━━━━━━━━━━━━━━━━━━\u001b[0m\u001b[37m\u001b[0m \u001b[1m1s\u001b[0m 564us/step - accuracy: 0.6379 - loss: 0.6462 - val_accuracy: 0.6082 - val_loss: 0.6629\n",
      "Epoch 89/100\n",
      "\u001b[1m945/945\u001b[0m \u001b[32m━━━━━━━━━━━━━━━━━━━━\u001b[0m\u001b[37m\u001b[0m \u001b[1m1s\u001b[0m 560us/step - accuracy: 0.6292 - loss: 0.6493 - val_accuracy: 0.6221 - val_loss: 0.6598\n",
      "Epoch 90/100\n",
      "\u001b[1m945/945\u001b[0m \u001b[32m━━━━━━━━━━━━━━━━━━━━\u001b[0m\u001b[37m\u001b[0m \u001b[1m1s\u001b[0m 629us/step - accuracy: 0.6408 - loss: 0.6474 - val_accuracy: 0.6099 - val_loss: 0.6679\n",
      "Epoch 91/100\n",
      "\u001b[1m945/945\u001b[0m \u001b[32m━━━━━━━━━━━━━━━━━━━━\u001b[0m\u001b[37m\u001b[0m \u001b[1m1s\u001b[0m 574us/step - accuracy: 0.6386 - loss: 0.6456 - val_accuracy: 0.6009 - val_loss: 0.6674\n",
      "Epoch 92/100\n",
      "\u001b[1m945/945\u001b[0m \u001b[32m━━━━━━━━━━━━━━━━━━━━\u001b[0m\u001b[37m\u001b[0m \u001b[1m1s\u001b[0m 589us/step - accuracy: 0.6367 - loss: 0.6444 - val_accuracy: 0.6171 - val_loss: 0.6612\n",
      "Epoch 93/100\n",
      "\u001b[1m945/945\u001b[0m \u001b[32m━━━━━━━━━━━━━━━━━━━━\u001b[0m\u001b[37m\u001b[0m \u001b[1m1s\u001b[0m 577us/step - accuracy: 0.6371 - loss: 0.6452 - val_accuracy: 0.5999 - val_loss: 0.6672\n",
      "Epoch 94/100\n",
      "\u001b[1m945/945\u001b[0m \u001b[32m━━━━━━━━━━━━━━━━━━━━\u001b[0m\u001b[37m\u001b[0m \u001b[1m1s\u001b[0m 577us/step - accuracy: 0.6440 - loss: 0.6439 - val_accuracy: 0.6307 - val_loss: 0.6574\n",
      "Epoch 95/100\n",
      "\u001b[1m945/945\u001b[0m \u001b[32m━━━━━━━━━━━━━━━━━━━━\u001b[0m\u001b[37m\u001b[0m \u001b[1m1s\u001b[0m 581us/step - accuracy: 0.6406 - loss: 0.6451 - val_accuracy: 0.6281 - val_loss: 0.6579\n",
      "Epoch 96/100\n",
      "\u001b[1m945/945\u001b[0m \u001b[32m━━━━━━━━━━━━━━━━━━━━\u001b[0m\u001b[37m\u001b[0m \u001b[1m1s\u001b[0m 579us/step - accuracy: 0.6385 - loss: 0.6471 - val_accuracy: 0.6066 - val_loss: 0.6662\n",
      "Epoch 97/100\n",
      "\u001b[1m945/945\u001b[0m \u001b[32m━━━━━━━━━━━━━━━━━━━━\u001b[0m\u001b[37m\u001b[0m \u001b[1m1s\u001b[0m 579us/step - accuracy: 0.6336 - loss: 0.6464 - val_accuracy: 0.6132 - val_loss: 0.6615\n",
      "Epoch 98/100\n",
      "\u001b[1m945/945\u001b[0m \u001b[32m━━━━━━━━━━━━━━━━━━━━\u001b[0m\u001b[37m\u001b[0m \u001b[1m1s\u001b[0m 562us/step - accuracy: 0.6372 - loss: 0.6484 - val_accuracy: 0.6105 - val_loss: 0.6626\n",
      "Epoch 99/100\n",
      "\u001b[1m945/945\u001b[0m \u001b[32m━━━━━━━━━━━━━━━━━━━━\u001b[0m\u001b[37m\u001b[0m \u001b[1m1s\u001b[0m 567us/step - accuracy: 0.6343 - loss: 0.6475 - val_accuracy: 0.6251 - val_loss: 0.6583\n",
      "Epoch 100/100\n",
      "\u001b[1m945/945\u001b[0m \u001b[32m━━━━━━━━━━━━━━━━━━━━\u001b[0m\u001b[37m\u001b[0m \u001b[1m1s\u001b[0m 651us/step - accuracy: 0.6330 - loss: 0.6485 - val_accuracy: 0.6257 - val_loss: 0.6573\n",
      "63/63 - 0s - 401us/step - accuracy: 0.6572 - loss: 0.6221\n"
     ]
    },
    {
     "data": {
      "text/plain": [
       "[0.6220629215240479, 0.6572420597076416]"
      ]
     },
     "execution_count": 51,
     "metadata": {},
     "output_type": "execute_result"
    }
   ],
   "source": [
    "history = model.fit(X_train, y_train, \n",
    "                    epochs=100, \n",
    "                    batch_size=16, \n",
    "                    validation_data=(X_val, y_val),\n",
    "                    verbose=1)\n",
    "\n",
    "# Evaluate the model on the test set\n",
    "model.evaluate(X_test, y_test, verbose=2)"
   ]
  },
  {
   "cell_type": "code",
   "execution_count": 52,
   "id": "f04f425a-14eb-4287-b2af-6b82b6e5c90a",
   "metadata": {},
   "outputs": [
    {
     "name": "stdout",
     "output_type": "stream",
     "text": [
      "\u001b[1m630/630\u001b[0m \u001b[32m━━━━━━━━━━━━━━━━━━━━\u001b[0m\u001b[37m\u001b[0m \u001b[1m0s\u001b[0m 373us/step\n"
     ]
    },
    {
     "data": {
      "image/png": "[encoded data removed]",
      "text/plain": [
       "<Figure size 640x480 with 1 Axes>"
      ]
     },
     "metadata": {},
     "output_type": "display_data"
    }
   ],
   "source": [
    "from sklearn.metrics import precision_recall_curve\n",
    "import matplotlib.pyplot as plt\n",
    "\n",
    "# Get the prediction probabilities\n",
    "nn_probas = model.predict(processed_df_[best_nn_predictors])\n",
    "\n",
    "# Compute precision-recall curve\n",
    "precision, recall, thresholds = precision_recall_curve(processed_df_['target'], nn_probas)\n",
    "\n",
    "# Plot precision-recall curve\n",
    "plt.plot(thresholds, precision[:-1], 'b-', label='Precision')\n",
    "plt.plot(thresholds, recall[:-1], 'r-', label='Recall')\n",
    "plt.xlabel('Threshold')\n",
    "plt.ylabel('Score')\n",
    "plt.legend()\n",
    "plt.show()"
   ]
  },
  {
   "cell_type": "code",
   "execution_count": 53,
   "id": "0f7bea49-a5ae-4b5e-9de6-68f0e3ac65a5",
   "metadata": {},
   "outputs": [
    {
     "data": {
      "text/plain": [
       "0.72289723"
      ]
     },
     "execution_count": 53,
     "metadata": {},
     "output_type": "execute_result"
    }
   ],
   "source": [
    "threshold_80_precision = thresholds[np.argmax(precision >= 0.8)]\n",
    "threshold_80_precision"
   ]
  },
  {
   "cell_type": "code",
   "execution_count": 58,
   "id": "1929bb11-82b5-4b19-8dc2-57e4a7c440c3",
   "metadata": {},
   "outputs": [
    {
     "data": {
      "text/plain": [
       "0.14689826302729528"
      ]
     },
     "execution_count": 58,
     "metadata": {},
     "output_type": "execute_result"
    }
   ],
   "source": [
    "recall_80_precision = recall[np.argmax(precision >= 0.8)]\n",
    "recall_80_precision"
   ]
  },
  {
   "cell_type": "code",
   "execution_count": 54,
   "id": "053400b3-bb99-404d-97f4-1da07598edc0",
   "metadata": {},
   "outputs": [
    {
     "name": "stdout",
     "output_type": "stream",
     "text": [
      "\u001b[1m1/1\u001b[0m \u001b[32m━━━━━━━━━━━━━━━━━━━━\u001b[0m\u001b[37m\u001b[0m \u001b[1m0s\u001b[0m 11ms/step\n",
      "\n",
      "\n",
      " Home Team --> PHI vs ORL <-- Away Team\n",
      "There is error both teams prediction seems to be same.\n",
      "\n",
      "\n",
      " Home Team --> WAS vs CHI <-- Away Team\n",
      "There is error both teams prediction seems to be same.\n",
      "\n",
      "\n",
      " Home Team --> BOS vs CHO <-- Away Team\n",
      "\t\tBOS WINS!\n",
      "\n",
      "\n",
      "\n",
      "\n",
      " Home Team --> IND vs CLE <-- Away Team\n",
      "There is error both teams prediction seems to be same.\n",
      "\n",
      "\n",
      " Home Team --> NYK vs BRK <-- Away Team\n",
      "\t\tNYK WINS!\n",
      "\n",
      "\n"
     ]
    }
   ],
   "source": [
    "nn_prediction = model.predict(games_df[best_nn_predictors])\n",
    "predicted_labels = ((nn_prediction > threshold_80_precision).astype(int)).flatten()\n",
    "print_winner(df, predicted_labels, games_dict)"
   ]
  },
  {
   "cell_type": "code",
   "execution_count": 55,
   "id": "21dd6608-8e0e-4678-bfea-f5da0388c65d",
   "metadata": {},
   "outputs": [
    {
     "data": {
      "text/plain": [
       "array([[0.5542276 ],\n",
       "       [0.47844824],\n",
       "       [0.38959566],\n",
       "       [0.6330606 ],\n",
       "       [0.9044256 ],\n",
       "       [0.10898928],\n",
       "       [0.68088627],\n",
       "       [0.34665847],\n",
       "       [0.74510515],\n",
       "       [0.2789716 ]], dtype=float32)"
      ]
     },
     "execution_count": 55,
     "metadata": {},
     "output_type": "execute_result"
    }
   ],
   "source": [
    "nn_prediction"
   ]
  },
  {
   "cell_type": "code",
   "execution_count": 69,
   "id": "cf2b7b68-f92b-44de-b1df-0c7b6d2efba8",
   "metadata": {},
   "outputs": [],
   "source": [
    "games_df['nn_preds'] = nn_prediction.flatten()"
   ]
  }
 ],
 "metadata": {
  "kernelspec": {
   "display_name": "Python 3 (ipykernel)",
   "language": "python",
   "name": "python3"
  },
  "language_info": {
   "codemirror_mode": {
    "name": "ipython",
    "version": 3
   },
   "file_extension": ".py",
   "mimetype": "text/x-python",
   "name": "python",
   "nbconvert_exporter": "python",
   "pygments_lexer": "ipython3",
   "version": "3.12.3"
  }
 },
 "nbformat": 4,
 "nbformat_minor": 5
}
